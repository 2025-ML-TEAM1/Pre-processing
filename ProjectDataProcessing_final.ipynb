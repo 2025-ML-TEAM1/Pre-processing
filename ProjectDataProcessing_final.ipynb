{
  "nbformat": 4,
  "nbformat_minor": 0,
  "metadata": {
    "colab": {
      "provenance": [],
      "gpuType": "T4"
    },
    "kernelspec": {
      "name": "python3",
      "display_name": "Python 3"
    },
    "language_info": {
      "name": "python"
    },
    "accelerator": "GPU"
  },
  "cells": [
    {
      "cell_type": "code",
      "source": [
        "# GPU 사용 확인\n",
        "import torch\n",
        "\n",
        "if torch.cuda.is_available():\n",
        "    print(\"✅ GPU 사용 가능:\", torch.cuda.get_device_name(0))\n",
        "else:\n",
        "    print(\"❌ GPU 사용 불가. [런타임 → 런타임 유형 변경]에서 GPU 설정 확인\")"
      ],
      "metadata": {
        "colab": {
          "base_uri": "https://localhost:8080/"
        },
        "id": "QSsJG7tJjYzz",
        "outputId": "48a6e24c-9340-4091-a159-822b414b8b3f"
      },
      "execution_count": 1,
      "outputs": [
        {
          "output_type": "stream",
          "name": "stdout",
          "text": [
            "✅ GPU 사용 가능: Tesla T4\n"
          ]
        }
      ]
    },
    {
      "cell_type": "markdown",
      "source": [
        "# colab에서 다운로드 및 압축 해제"
      ],
      "metadata": {
        "id": "8t9tz-uxlKbZ"
      }
    },
    {
      "cell_type": "code",
      "execution_count": 2,
      "metadata": {
        "colab": {
          "base_uri": "https://localhost:8080/"
        },
        "id": "9XI9ZB9aePGq",
        "outputId": "0d0abbc4-3113-43f0-cfb0-e1b7803812e5"
      },
      "outputs": [
        {
          "output_type": "stream",
          "name": "stdout",
          "text": [
            "Requirement already satisfied: gdown in /usr/local/lib/python3.11/dist-packages (5.2.0)\n",
            "Requirement already satisfied: beautifulsoup4 in /usr/local/lib/python3.11/dist-packages (from gdown) (4.13.4)\n",
            "Requirement already satisfied: filelock in /usr/local/lib/python3.11/dist-packages (from gdown) (3.18.0)\n",
            "Requirement already satisfied: requests[socks] in /usr/local/lib/python3.11/dist-packages (from gdown) (2.32.3)\n",
            "Requirement already satisfied: tqdm in /usr/local/lib/python3.11/dist-packages (from gdown) (4.67.1)\n",
            "Requirement already satisfied: soupsieve>1.2 in /usr/local/lib/python3.11/dist-packages (from beautifulsoup4->gdown) (2.7)\n",
            "Requirement already satisfied: typing-extensions>=4.0.0 in /usr/local/lib/python3.11/dist-packages (from beautifulsoup4->gdown) (4.13.2)\n",
            "Requirement already satisfied: charset-normalizer<4,>=2 in /usr/local/lib/python3.11/dist-packages (from requests[socks]->gdown) (3.4.2)\n",
            "Requirement already satisfied: idna<4,>=2.5 in /usr/local/lib/python3.11/dist-packages (from requests[socks]->gdown) (3.10)\n",
            "Requirement already satisfied: urllib3<3,>=1.21.1 in /usr/local/lib/python3.11/dist-packages (from requests[socks]->gdown) (2.4.0)\n",
            "Requirement already satisfied: certifi>=2017.4.17 in /usr/local/lib/python3.11/dist-packages (from requests[socks]->gdown) (2025.4.26)\n",
            "Requirement already satisfied: PySocks!=1.5.7,>=1.5.6 in /usr/local/lib/python3.11/dist-packages (from requests[socks]->gdown) (1.7.1)\n",
            "/usr/local/lib/python3.11/dist-packages/gdown/__main__.py:140: FutureWarning: Option `--id` was deprecated in version 4.3.1 and will be removed in 5.0. You don't need to pass it anymore to use a file ID.\n",
            "  warnings.warn(\n",
            "Downloading...\n",
            "From (original): https://drive.google.com/uc?id=11XaLQaUtdDjmIcFHQtIzfTKaxMzLNz_7\n",
            "From (redirected): https://drive.google.com/uc?id=11XaLQaUtdDjmIcFHQtIzfTKaxMzLNz_7&confirm=t&uuid=184deba6-38ef-45db-aac1-69f26b72e3c2\n",
            "To: /content/scin_data.zip\n",
            "100% 12.5G/12.5G [02:50<00:00, 73.3MB/s]\n",
            "✅ 압축 해제 완료! 압축 풀린 경로: /content/scin_data\n"
          ]
        }
      ],
      "source": [
        "# 1. gdown 설치\n",
        "!pip install -U gdown\n",
        "\n",
        "# 2. Google Drive 공유 파일 다운로드\n",
        "!gdown --id 11XaLQaUtdDjmIcFHQtIzfTKaxMzLNz_7 --output /content/scin_data.zip\n",
        "\n",
        "# 3. 압축 해제\n",
        "import zipfile\n",
        "\n",
        "zip_path = '/content/scin_data.zip'\n",
        "extract_path = '/content/scin_data'\n",
        "\n",
        "with zipfile.ZipFile(zip_path, 'r') as zip_ref:\n",
        "    zip_ref.extractall(extract_path)\n",
        "\n",
        "print(\"✅ 압축 해제 완료! 압축 풀린 경로:\", extract_path)"
      ]
    },
    {
      "cell_type": "markdown",
      "source": [
        "# scin_cases 메타데이터 전처리"
      ],
      "metadata": {
        "id": "IIHqeGGCnLNG"
      }
    },
    {
      "cell_type": "markdown",
      "source": [
        "### 1. 데이터 불러오기 및 병합"
      ],
      "metadata": {
        "id": "MPEREVwDuWFb"
      }
    },
    {
      "cell_type": "code",
      "source": [
        "import pandas as pd\n",
        "import ast\n",
        "from sklearn.preprocessing import MultiLabelBinarizer\n",
        "\n",
        "# 1. 파일 경로 설정\n",
        "cases_path = '/content/scin_data/content/scin_data/dataset/scin_cases.csv'\n",
        "labels_path = '/content/scin_data/content/scin_data/dataset/scin_labels.csv'\n",
        "\n",
        "# 2. 데이터 불러오기 및 병합\n",
        "df_cases = pd.read_csv(cases_path)\n",
        "df_labels = pd.read_csv(labels_path)\n",
        "df = pd.merge(df_cases, df_labels, on='case_id', how='inner')\n",
        "df = df[df['weighted_skin_condition_label'].astype(str) != '{}']"
      ],
      "metadata": {
        "id": "wYRP2LHlukpR"
      },
      "execution_count": 3,
      "outputs": []
    },
    {
      "cell_type": "markdown",
      "source": [
        "### 2. 기본 전처리 및 인코딩"
      ],
      "metadata": {
        "id": "v4XiUZDQul1I"
      }
    },
    {
      "cell_type": "code",
      "source": [
        "# 3. 컬럼명 소문자화\n",
        "df.columns = df.columns.str.strip().str.lower()\n",
        "\n",
        "# 4. 다중 범주 이진화 컬럼 정의\n",
        "multi_keys = ['textures_', 'body_parts_', 'condition_symptoms_', 'other_symptoms_', 'race_ethnicity_']\n",
        "multi_cols = [col for col in df.columns if any(key in col for key in multi_keys)]\n",
        "\n",
        "# 5. 문자열 결측 처리\n",
        "fill_str_cols = [\n",
        "    'sex_at_birth', 'fitzpatrick_skin_type', 'combined_race', 'condition_duration',\n",
        "    'dermatologist_fitzpatrick_skin_type_label_1',\n",
        "    'dermatologist_fitzpatrick_skin_type_label_2',\n",
        "    'dermatologist_fitzpatrick_skin_type_label_3'\n",
        "]\n",
        "for col in fill_str_cols:\n",
        "    if col in df.columns:\n",
        "        df[col] = df[col].fillna('unspecified').str.lower().str.strip()\n",
        "\n",
        "# 6. age_group 인코딩\n",
        "df['age_group'] = (\n",
        "    df['age_group'].fillna('unknown')\n",
        "    .str.lower().str.replace('age_', '', regex=False)\n",
        "    .str.replace('_to_', '-', regex=False).str.strip()\n",
        ")\n",
        "age_order = ['0-9','10-17','18-29','30-39','40-49','50-59','60-69','70-79','80-89','90-99','unknown']\n",
        "df['age_group_ordinal'] = df['age_group'].map({v: i for i, v in enumerate(age_order)}).fillna(-1).astype(int)\n",
        "\n",
        "# 7. 성별 원-핫 인코딩\n",
        "df = pd.get_dummies(df, columns=['sex_at_birth'], prefix='sex')\n",
        "sex_cols = [col for col in df.columns if col.startswith('sex_')]\n",
        "df[sex_cols] = df[sex_cols].astype(int)\n",
        "\n",
        "# 8. 피부타입 인코딩\n",
        "fitz_map = {'fst1': 1, 'fst2': 2, 'fst3': 3, 'fst4': 4, 'fst5': 5, 'fst6': 6, 'unspecified': 0}\n",
        "fitz_cols = ['fitzpatrick_skin_type'] + [f'dermatologist_fitzpatrick_skin_type_label_{i}' for i in range(1, 4)]\n",
        "for col in fitz_cols:\n",
        "    df[f'{col}_encoded'] = df[col].map(fitz_map).fillna(0).astype(int)\n",
        "\n",
        "# 9. condition_duration 인코딩\n",
        "duration_order = [\n",
        "    'one_day','less_than_one_week','one_to_four_weeks','one_to_three_months',\n",
        "    'three_to_twelve_months','more_than_one_year','more_than_five_years',\n",
        "    'since_childhood','unknown','unspecified'\n",
        "]\n",
        "df['condition_duration_encoded'] = df['condition_duration'].map({v: i for i, v in enumerate(duration_order)}).fillna(-1).astype(int)\n",
        "\n",
        "# 10. 관련 카테고리 one-hot 인코딩\n",
        "df['related_category'] = df['related_category'].fillna('unknown').str.lower().str.strip()\n",
        "df = pd.get_dummies(df, columns=['related_category'], prefix='rc')\n",
        "\n",
        "# 11. 다중 범주 이진화\n",
        "for col in multi_cols:\n",
        "    df[col] = df[col].notna().astype(int)"
      ],
      "metadata": {
        "id": "l53dPJKTuoxb"
      },
      "execution_count": 4,
      "outputs": []
    },
    {
      "cell_type": "markdown",
      "source": [
        "### 3. 이미지 및 shot type 정보 정리"
      ],
      "metadata": {
        "id": "qXnmVVhFusgi"
      }
    },
    {
      "cell_type": "code",
      "source": [
        "# 12. 이미지 shot type 인코딩 준비\n",
        "image_cols = ['image_1_path', 'image_2_path', 'image_3_path']\n",
        "shot_type_cols = {\n",
        "    'image_1_path': [col for col in df.columns if col.startswith('image_1_shot_type')],\n",
        "    'image_2_path': [col for col in df.columns if col.startswith('image_2_shot_type')],\n",
        "    'image_3_path': [col for col in df.columns if col.startswith('image_3_shot_type')],\n",
        "}\n",
        "df['original_index'] = df.index\n",
        "\n",
        "def is_positive(val):\n",
        "    return str(val).strip().lower() in ['1', 'true', 'yes']\n",
        "\n",
        "# 13. 이미지 long 포맷으로 변환\n",
        "df_long = df.melt(\n",
        "    id_vars=[col for col in df.columns if col not in image_cols],\n",
        "    value_vars=image_cols,\n",
        "    var_name='image_source',\n",
        "    value_name='image'\n",
        ")\n",
        "df_long = df_long[df_long['image'].notna() & (df_long['image'].astype(str).str.strip() != '')].reset_index(drop=True)\n",
        "df_long['image_num'] = df_long['image_source'].str.extract(r'image_(\\d)_path')\n",
        "\n",
        "# ✅ 14. shot_type 이름 정확히 유지한 추출\n",
        "shot_type_final = []\n",
        "for row in df_long.itertuples():\n",
        "    img_num = row.image_num\n",
        "    original_idx = row.original_index\n",
        "    matching_cols = shot_type_cols.get(f'image_{img_num}_path', [])\n",
        "    shot_values = df.loc[original_idx, matching_cols] if matching_cols else []\n",
        "    shot_type = [col.replace(f'image_{img_num}_shot_type_', '') for col in matching_cols if is_positive(shot_values[col])]\n",
        "    shot_type_final.append(shot_type)\n",
        "\n",
        "df_long['image_shot_type_list'] = shot_type_final\n",
        "mlb_shot = MultiLabelBinarizer()\n",
        "shot_dummies = pd.DataFrame(mlb_shot.fit_transform(df_long['image_shot_type_list']),\n",
        "                            columns=['image_shot_type_' + cls for cls in mlb_shot.classes_])\n",
        "df_long = pd.concat([df_long, shot_dummies], axis=1)\n"
      ],
      "metadata": {
        "id": "Tdtr0ceuuwHc"
      },
      "execution_count": 5,
      "outputs": []
    },
    {
      "cell_type": "markdown",
      "source": [
        "### 4. 병명 멀티레이블 정리"
      ],
      "metadata": {
        "id": "zckQw-FKu0Iz"
      }
    },
    {
      "cell_type": "code",
      "source": [
        "# 15. 고유 case_id 업데이트\n",
        "df_long['case_id'] = df_long['case_id'].astype(str) + '_' + df_long['image_source'].str.extract(r'image_(\\d)_path')[0]\n",
        "\n",
        "# 16. 정리\n",
        "original_shot_type_cols = sum(shot_type_cols.values(), [])\n",
        "drop_cols = ['image_source', 'image_num', 'original_index', 'image_shot_type_list']\n",
        "df_long.drop(columns=drop_cols + original_shot_type_cols, inplace=True)\n",
        "\n",
        "# 17. 이미지 경로 정리\n",
        "df_long['image'] = df_long['image'].astype(str).str.strip()\n",
        "df_long = df_long[df_long['image'] != '']\n",
        "df_long = df_long.drop_duplicates(subset='image', keep='first').reset_index(drop=True)\n",
        "\n",
        "# 18. 병명 멀티레이블 파싱\n",
        "def extract_multi_labels(label_str, threshold=0.3):\n",
        "    try:\n",
        "        label_dict = ast.literal_eval(label_str)\n",
        "        return [k.strip() for k, v in label_dict.items() if v >= threshold]\n",
        "    except:\n",
        "        return []\n",
        "\n",
        "df_long['multi_labels'] = df_long['weighted_skin_condition_label'].apply(extract_multi_labels)\n",
        "\n",
        "# 19. 병명 원-핫 인코딩\n",
        "mlb = MultiLabelBinarizer()\n",
        "label_lists = mlb.fit_transform(df_long['multi_labels'])\n",
        "label_names = ['label_' + l.replace(' ', '_').replace('/', '_').lower() for l in mlb.classes_]\n",
        "label_dummies = pd.DataFrame(label_lists, columns=label_names)\n"
      ],
      "metadata": {
        "id": "sxFwJD2Tu2pw"
      },
      "execution_count": 6,
      "outputs": []
    },
    {
      "cell_type": "markdown",
      "source": [
        "### 5. 기타 변환 및 필터링"
      ],
      "metadata": {
        "id": "VdCLrCNfu72A"
      }
    },
    {
      "cell_type": "code",
      "source": [
        "# 20. TRUE/FALSE 문자열을 1/0으로 변환\n",
        "bool_like_cols = df_long.columns[df_long.apply(lambda col: col.astype(str).str.upper().isin(['TRUE', 'FALSE']).all())]\n",
        "for col in bool_like_cols:\n",
        "    df_long[col] = df_long[col].astype(str).str.upper().map({'TRUE': 1, 'FALSE': 0})\n",
        "\n",
        "# 21. 전체 병합\n",
        "df_all_labels = pd.concat([df_long.drop(columns=['weighted_skin_condition_label', 'multi_labels']), label_dummies], axis=1)\n",
        "\n",
        "# 22. 희소 레이블 제거 + 범주형 원본 제거\n",
        "label_counts = label_dummies.sum()\n",
        "rare_labels = label_counts[label_counts <= 10].index.tolist()\n",
        "df_filtered = df_all_labels[~df_all_labels[rare_labels].any(axis=1)].drop(columns=rare_labels).reset_index(drop=True)\n",
        "\n",
        "remove_cat_cols = [\n",
        "    'fitzpatrick_skin_type', 'age_group', 'condition_duration', 'combined_race',\n",
        "    'dermatologist_gradable_for_skin_condition_1', 'dermatologist_gradable_for_skin_condition_2',\n",
        "    'dermatologist_gradable_for_skin_condition_3', 'dermatologist_skin_condition_on_label_name',\n",
        "    'dermatologist_skin_condition_confidence', 'dermatologist_gradable_for_fitzpatrick_skin_type_1',\n",
        "    'dermatologist_gradable_for_fitzpatrick_skin_type_2', 'dermatologist_gradable_for_fitzpatrick_skin_type_3',\n",
        "    'gradable_for_monk_skin_tone_india', 'gradable_for_monk_skin_tone_us',\n",
        "    'monk_skin_tone_label_india', 'monk_skin_tone_label_us',\n",
        "    'dermatologist_fitzpatrick_skin_type_label_1',\n",
        "    'dermatologist_fitzpatrick_skin_type_label_2',\n",
        "    'dermatologist_fitzpatrick_skin_type_label_3'\n",
        "]\n",
        "df_all_labels.drop(columns=[col for col in remove_cat_cols if col in df_all_labels.columns], inplace=True)\n",
        "df_filtered.drop(columns=[col for col in remove_cat_cols if col in df_filtered.columns], inplace=True)\n"
      ],
      "metadata": {
        "id": "fycFBtWWu-W7"
      },
      "execution_count": 7,
      "outputs": []
    },
    {
      "cell_type": "markdown",
      "source": [
        "### 6. 저장 및 다운로드"
      ],
      "metadata": {
        "id": "pEnJ8mdYvCeY"
      }
    },
    {
      "cell_type": "code",
      "source": [
        "# 23. 저장\n",
        "df_all_labels.to_csv('/content/processed_scin_all_labels.csv', index=False)\n",
        "df_filtered.to_csv('/content/processed_scin_filtered_labels.csv', index=False)\n",
        "\n",
        "\n",
        "# 24. 다운로드\n",
        "from google.colab import files\n",
        "files.download('/content/processed_scin_all_labels.csv')\n",
        "files.download('/content/processed_scin_filtered_labels.csv')"
      ],
      "metadata": {
        "colab": {
          "base_uri": "https://localhost:8080/",
          "height": 17
        },
        "id": "Sp5eBeGbvHrY",
        "outputId": "0e08cd82-9bbb-4e5d-eb53-eeb4dbee14db"
      },
      "execution_count": 8,
      "outputs": [
        {
          "output_type": "display_data",
          "data": {
            "text/plain": [
              "<IPython.core.display.Javascript object>"
            ],
            "application/javascript": [
              "\n",
              "    async function download(id, filename, size) {\n",
              "      if (!google.colab.kernel.accessAllowed) {\n",
              "        return;\n",
              "      }\n",
              "      const div = document.createElement('div');\n",
              "      const label = document.createElement('label');\n",
              "      label.textContent = `Downloading \"${filename}\": `;\n",
              "      div.appendChild(label);\n",
              "      const progress = document.createElement('progress');\n",
              "      progress.max = size;\n",
              "      div.appendChild(progress);\n",
              "      document.body.appendChild(div);\n",
              "\n",
              "      const buffers = [];\n",
              "      let downloaded = 0;\n",
              "\n",
              "      const channel = await google.colab.kernel.comms.open(id);\n",
              "      // Send a message to notify the kernel that we're ready.\n",
              "      channel.send({})\n",
              "\n",
              "      for await (const message of channel.messages) {\n",
              "        // Send a message to notify the kernel that we're ready.\n",
              "        channel.send({})\n",
              "        if (message.buffers) {\n",
              "          for (const buffer of message.buffers) {\n",
              "            buffers.push(buffer);\n",
              "            downloaded += buffer.byteLength;\n",
              "            progress.value = downloaded;\n",
              "          }\n",
              "        }\n",
              "      }\n",
              "      const blob = new Blob(buffers, {type: 'application/binary'});\n",
              "      const a = document.createElement('a');\n",
              "      a.href = window.URL.createObjectURL(blob);\n",
              "      a.download = filename;\n",
              "      div.appendChild(a);\n",
              "      a.click();\n",
              "      div.remove();\n",
              "    }\n",
              "  "
            ]
          },
          "metadata": {}
        },
        {
          "output_type": "display_data",
          "data": {
            "text/plain": [
              "<IPython.core.display.Javascript object>"
            ],
            "application/javascript": [
              "download(\"download_4c9e3d45-55a1-48f9-8b26-14440dc12274\", \"processed_scin_all_labels.csv\", 4942742)"
            ]
          },
          "metadata": {}
        },
        {
          "output_type": "display_data",
          "data": {
            "text/plain": [
              "<IPython.core.display.Javascript object>"
            ],
            "application/javascript": [
              "\n",
              "    async function download(id, filename, size) {\n",
              "      if (!google.colab.kernel.accessAllowed) {\n",
              "        return;\n",
              "      }\n",
              "      const div = document.createElement('div');\n",
              "      const label = document.createElement('label');\n",
              "      label.textContent = `Downloading \"${filename}\": `;\n",
              "      div.appendChild(label);\n",
              "      const progress = document.createElement('progress');\n",
              "      progress.max = size;\n",
              "      div.appendChild(progress);\n",
              "      document.body.appendChild(div);\n",
              "\n",
              "      const buffers = [];\n",
              "      let downloaded = 0;\n",
              "\n",
              "      const channel = await google.colab.kernel.comms.open(id);\n",
              "      // Send a message to notify the kernel that we're ready.\n",
              "      channel.send({})\n",
              "\n",
              "      for await (const message of channel.messages) {\n",
              "        // Send a message to notify the kernel that we're ready.\n",
              "        channel.send({})\n",
              "        if (message.buffers) {\n",
              "          for (const buffer of message.buffers) {\n",
              "            buffers.push(buffer);\n",
              "            downloaded += buffer.byteLength;\n",
              "            progress.value = downloaded;\n",
              "          }\n",
              "        }\n",
              "      }\n",
              "      const blob = new Blob(buffers, {type: 'application/binary'});\n",
              "      const a = document.createElement('a');\n",
              "      a.href = window.URL.createObjectURL(blob);\n",
              "      a.download = filename;\n",
              "      div.appendChild(a);\n",
              "      a.click();\n",
              "      div.remove();\n",
              "    }\n",
              "  "
            ]
          },
          "metadata": {}
        },
        {
          "output_type": "display_data",
          "data": {
            "text/plain": [
              "<IPython.core.display.Javascript object>"
            ],
            "application/javascript": [
              "download(\"download_fb09ad68-ac66-413a-83d4-72ff4dfa34cf\", \"processed_scin_filtered_labels.csv\", 2139351)"
            ]
          },
          "metadata": {}
        }
      ]
    },
    {
      "cell_type": "markdown",
      "source": [
        "# scin_cases 전처리 시각화"
      ],
      "metadata": {
        "id": "cThk-SghT5EU"
      }
    },
    {
      "cell_type": "code",
      "source": [
        "import pandas as pd\n",
        "import matplotlib.pyplot as plt\n",
        "import seaborn as sns\n",
        "\n",
        "# 🔹 1. 데이터 로드\n",
        "df_raw_cases = pd.read_csv('/content/scin_data/content/scin_data/dataset/scin_cases.csv')\n",
        "df_raw_labels = pd.read_csv('/content/scin_data/content/scin_data/dataset/scin_labels.csv')\n",
        "df_raw = pd.merge(df_raw_cases, df_raw_labels, on='case_id', how='inner')\n",
        "\n",
        "df_proc = pd.read_csv('/content/processed_scin_filtered_labels.csv')\n",
        "\n",
        "# 🔹 2. 크기 비교\n",
        "print(\"🔍 Raw data shape:\", df_raw.shape)\n",
        "print(\"🔍 Processed data shape:\", df_proc.shape)\n",
        "\n",
        "# 🔹 3. 결측치 수 비교 (Top 20 컬럼)\n",
        "print(\"\\n🩹 Missing values in raw data:\")\n",
        "display(df_raw.isnull().sum().sort_values(ascending=False).head(20))\n",
        "\n",
        "print(\"\\n🧼 Missing values in processed data:\")\n",
        "display(df_proc.isnull().sum().sort_values(ascending=False).head(20))\n",
        "\n",
        "# 🔹 4. 컬럼 이름 비교\n",
        "raw_cols = set(df_raw.columns.str.lower())\n",
        "proc_cols = set(df_proc.columns)\n",
        "\n",
        "print(\"\\n➕ New columns after preprocessing:\", len(proc_cols - raw_cols))\n",
        "print(\"➖ Dropped columns after preprocessing:\", len(raw_cols - proc_cols))\n",
        "\n",
        "# 🔹 5. 성별 비교\n",
        "if 'sex_at_birth' in df_raw.columns:\n",
        "    plt.figure(figsize=(10, 4))\n",
        "    plt.subplot(1, 2, 1)\n",
        "    df_raw['sex_at_birth'].value_counts().plot(kind='bar')\n",
        "    plt.title(\"Raw: Gender Distribution\")\n",
        "\n",
        "    sex_cols = [col for col in df_proc.columns if col.startswith('sex_')]\n",
        "    plt.subplot(1, 2, 2)\n",
        "    df_proc[sex_cols].sum().plot(kind='bar')\n",
        "    plt.title(\"Processed: Gender Distribution (One-Hot)\")\n",
        "    plt.tight_layout()\n",
        "    plt.show()\n",
        "\n",
        "# 🔹 6. 나이 그룹 비교\n",
        "if 'age_group' in df_raw.columns:\n",
        "    plt.figure(figsize=(10, 4))\n",
        "    plt.subplot(1, 2, 1)\n",
        "    df_raw['age_group'].value_counts().sort_index().plot(kind='bar')\n",
        "    plt.title(\"Raw: Age Group Distribution\")\n",
        "\n",
        "    if 'age_group_ordinal' in df_proc.columns:\n",
        "        plt.subplot(1, 2, 2)\n",
        "        df_proc['age_group_ordinal'].value_counts().sort_index().plot(kind='bar')\n",
        "        plt.title(\"Processed: Age Group (Ordinal)\")\n",
        "    plt.tight_layout()\n",
        "    plt.show()\n",
        "\n",
        "# 🔹 7. 레이블 수 비교\n",
        "def count_labels(raw_df):\n",
        "    import ast\n",
        "    def extract_labels(label_str):\n",
        "        try:\n",
        "            d = ast.literal_eval(label_str)\n",
        "            return [k for k, v in d.items() if v >= 0.3]\n",
        "        except:\n",
        "            return []\n",
        "    labels = raw_df['weighted_skin_condition_label'].dropna().apply(extract_labels)\n",
        "    from collections import Counter\n",
        "    return Counter([l for sub in labels for l in sub])\n",
        "\n",
        "from collections import Counter\n",
        "\n",
        "print(\"\\n📊 Label distribution in raw data:\")\n",
        "raw_label_counts = count_labels(df_raw)\n",
        "raw_label_series = pd.Series(raw_label_counts).sort_values(ascending=False)\n",
        "display(raw_label_series.head(10))\n",
        "\n",
        "print(\"\\n📊 Label distribution in processed data:\")\n",
        "proc_label_cols = [col for col in df_proc.columns if col.startswith('label_')]\n",
        "proc_label_counts = df_proc[proc_label_cols].sum().sort_values(ascending=False)\n",
        "display(proc_label_counts.head(10))\n",
        "\n",
        "# 🔹 8. 희소 레이블 제거 확인\n",
        "print(\"\\n🧹 Number of labels before filtering:\", len(raw_label_series))\n",
        "print(\"🧽 Number of labels after filtering:\", len(proc_label_cols))\n"
      ],
      "metadata": {
        "id": "bKD44mQPuIu4",
        "colab": {
          "base_uri": "https://localhost:8080/",
          "height": 1000
        },
        "outputId": "1ae23af8-633d-415f-cd11-4461cd5d5b16"
      },
      "execution_count": 10,
      "outputs": [
        {
          "output_type": "stream",
          "name": "stdout",
          "text": [
            "🔍 Raw data shape: (5033, 73)\n",
            "🔍 Processed data shape: (5831, 149)\n",
            "\n",
            "🩹 Missing values in raw data:\n"
          ]
        },
        {
          "output_type": "display_data",
          "data": {
            "text/plain": [
              "race_ethnicity_native_hawaiian_or_pacific_islander    5029\n",
              "race_ethnicity_middle_eastern_or_north_african        5026\n",
              "race_ethnicity_other_race                             5017\n",
              "race_ethnicity_prefer_not_to_answer                   4999\n",
              "race_ethnicity_american_indian_or_alaska_native       4960\n",
              "race_ethnicity_two_or_more_after_mitigation           4950\n",
              "other_symptoms_fever                                  4943\n",
              "race_ethnicity_asian                                  4937\n",
              "other_symptoms_mouth_sores                            4937\n",
              "body_parts_foot_sole                                  4929\n",
              "other_symptoms_chills                                 4913\n",
              "other_symptoms_shortness_of_breath                    4894\n",
              "body_parts_palm                                       4818\n",
              "body_parts_genitalia_or_groin                         4811\n",
              "condition_symptoms_bleeding                           4808\n",
              "race_ethnicity_hispanic_latino_or_spanish_origin      4743\n",
              "race_ethnicity_black_or_african_american              4735\n",
              "other_symptoms_joint_pain                             4733\n",
              "condition_symptoms_no_relevant_experience             4725\n",
              "condition_symptoms_darkening                          4648\n",
              "dtype: int64"
            ],
            "text/html": [
              "<div>\n",
              "<style scoped>\n",
              "    .dataframe tbody tr th:only-of-type {\n",
              "        vertical-align: middle;\n",
              "    }\n",
              "\n",
              "    .dataframe tbody tr th {\n",
              "        vertical-align: top;\n",
              "    }\n",
              "\n",
              "    .dataframe thead th {\n",
              "        text-align: right;\n",
              "    }\n",
              "</style>\n",
              "<table border=\"1\" class=\"dataframe\">\n",
              "  <thead>\n",
              "    <tr style=\"text-align: right;\">\n",
              "      <th></th>\n",
              "      <th>0</th>\n",
              "    </tr>\n",
              "  </thead>\n",
              "  <tbody>\n",
              "    <tr>\n",
              "      <th>race_ethnicity_native_hawaiian_or_pacific_islander</th>\n",
              "      <td>5029</td>\n",
              "    </tr>\n",
              "    <tr>\n",
              "      <th>race_ethnicity_middle_eastern_or_north_african</th>\n",
              "      <td>5026</td>\n",
              "    </tr>\n",
              "    <tr>\n",
              "      <th>race_ethnicity_other_race</th>\n",
              "      <td>5017</td>\n",
              "    </tr>\n",
              "    <tr>\n",
              "      <th>race_ethnicity_prefer_not_to_answer</th>\n",
              "      <td>4999</td>\n",
              "    </tr>\n",
              "    <tr>\n",
              "      <th>race_ethnicity_american_indian_or_alaska_native</th>\n",
              "      <td>4960</td>\n",
              "    </tr>\n",
              "    <tr>\n",
              "      <th>race_ethnicity_two_or_more_after_mitigation</th>\n",
              "      <td>4950</td>\n",
              "    </tr>\n",
              "    <tr>\n",
              "      <th>other_symptoms_fever</th>\n",
              "      <td>4943</td>\n",
              "    </tr>\n",
              "    <tr>\n",
              "      <th>race_ethnicity_asian</th>\n",
              "      <td>4937</td>\n",
              "    </tr>\n",
              "    <tr>\n",
              "      <th>other_symptoms_mouth_sores</th>\n",
              "      <td>4937</td>\n",
              "    </tr>\n",
              "    <tr>\n",
              "      <th>body_parts_foot_sole</th>\n",
              "      <td>4929</td>\n",
              "    </tr>\n",
              "    <tr>\n",
              "      <th>other_symptoms_chills</th>\n",
              "      <td>4913</td>\n",
              "    </tr>\n",
              "    <tr>\n",
              "      <th>other_symptoms_shortness_of_breath</th>\n",
              "      <td>4894</td>\n",
              "    </tr>\n",
              "    <tr>\n",
              "      <th>body_parts_palm</th>\n",
              "      <td>4818</td>\n",
              "    </tr>\n",
              "    <tr>\n",
              "      <th>body_parts_genitalia_or_groin</th>\n",
              "      <td>4811</td>\n",
              "    </tr>\n",
              "    <tr>\n",
              "      <th>condition_symptoms_bleeding</th>\n",
              "      <td>4808</td>\n",
              "    </tr>\n",
              "    <tr>\n",
              "      <th>race_ethnicity_hispanic_latino_or_spanish_origin</th>\n",
              "      <td>4743</td>\n",
              "    </tr>\n",
              "    <tr>\n",
              "      <th>race_ethnicity_black_or_african_american</th>\n",
              "      <td>4735</td>\n",
              "    </tr>\n",
              "    <tr>\n",
              "      <th>other_symptoms_joint_pain</th>\n",
              "      <td>4733</td>\n",
              "    </tr>\n",
              "    <tr>\n",
              "      <th>condition_symptoms_no_relevant_experience</th>\n",
              "      <td>4725</td>\n",
              "    </tr>\n",
              "    <tr>\n",
              "      <th>condition_symptoms_darkening</th>\n",
              "      <td>4648</td>\n",
              "    </tr>\n",
              "  </tbody>\n",
              "</table>\n",
              "</div><br><label><b>dtype:</b> int64</label>"
            ]
          },
          "metadata": {}
        },
        {
          "output_type": "stream",
          "name": "stdout",
          "text": [
            "\n",
            "🧼 Missing values in processed data:\n"
          ]
        },
        {
          "output_type": "display_data",
          "data": {
            "text/plain": [
              "case_id                                               0\n",
              "source                                                0\n",
              "release                                               0\n",
              "year                                                  0\n",
              "race_ethnicity_american_indian_or_alaska_native       0\n",
              "race_ethnicity_asian                                  0\n",
              "race_ethnicity_black_or_african_american              0\n",
              "race_ethnicity_hispanic_latino_or_spanish_origin      0\n",
              "race_ethnicity_middle_eastern_or_north_african        0\n",
              "race_ethnicity_native_hawaiian_or_pacific_islander    0\n",
              "race_ethnicity_white                                  0\n",
              "race_ethnicity_other_race                             0\n",
              "race_ethnicity_prefer_not_to_answer                   0\n",
              "textures_raised_or_bumpy                              0\n",
              "textures_flat                                         0\n",
              "textures_rough_or_flaky                               0\n",
              "textures_fluid_filled                                 0\n",
              "body_parts_head_or_neck                               0\n",
              "body_parts_arm                                        0\n",
              "body_parts_palm                                       0\n",
              "dtype: int64"
            ],
            "text/html": [
              "<div>\n",
              "<style scoped>\n",
              "    .dataframe tbody tr th:only-of-type {\n",
              "        vertical-align: middle;\n",
              "    }\n",
              "\n",
              "    .dataframe tbody tr th {\n",
              "        vertical-align: top;\n",
              "    }\n",
              "\n",
              "    .dataframe thead th {\n",
              "        text-align: right;\n",
              "    }\n",
              "</style>\n",
              "<table border=\"1\" class=\"dataframe\">\n",
              "  <thead>\n",
              "    <tr style=\"text-align: right;\">\n",
              "      <th></th>\n",
              "      <th>0</th>\n",
              "    </tr>\n",
              "  </thead>\n",
              "  <tbody>\n",
              "    <tr>\n",
              "      <th>case_id</th>\n",
              "      <td>0</td>\n",
              "    </tr>\n",
              "    <tr>\n",
              "      <th>source</th>\n",
              "      <td>0</td>\n",
              "    </tr>\n",
              "    <tr>\n",
              "      <th>release</th>\n",
              "      <td>0</td>\n",
              "    </tr>\n",
              "    <tr>\n",
              "      <th>year</th>\n",
              "      <td>0</td>\n",
              "    </tr>\n",
              "    <tr>\n",
              "      <th>race_ethnicity_american_indian_or_alaska_native</th>\n",
              "      <td>0</td>\n",
              "    </tr>\n",
              "    <tr>\n",
              "      <th>race_ethnicity_asian</th>\n",
              "      <td>0</td>\n",
              "    </tr>\n",
              "    <tr>\n",
              "      <th>race_ethnicity_black_or_african_american</th>\n",
              "      <td>0</td>\n",
              "    </tr>\n",
              "    <tr>\n",
              "      <th>race_ethnicity_hispanic_latino_or_spanish_origin</th>\n",
              "      <td>0</td>\n",
              "    </tr>\n",
              "    <tr>\n",
              "      <th>race_ethnicity_middle_eastern_or_north_african</th>\n",
              "      <td>0</td>\n",
              "    </tr>\n",
              "    <tr>\n",
              "      <th>race_ethnicity_native_hawaiian_or_pacific_islander</th>\n",
              "      <td>0</td>\n",
              "    </tr>\n",
              "    <tr>\n",
              "      <th>race_ethnicity_white</th>\n",
              "      <td>0</td>\n",
              "    </tr>\n",
              "    <tr>\n",
              "      <th>race_ethnicity_other_race</th>\n",
              "      <td>0</td>\n",
              "    </tr>\n",
              "    <tr>\n",
              "      <th>race_ethnicity_prefer_not_to_answer</th>\n",
              "      <td>0</td>\n",
              "    </tr>\n",
              "    <tr>\n",
              "      <th>textures_raised_or_bumpy</th>\n",
              "      <td>0</td>\n",
              "    </tr>\n",
              "    <tr>\n",
              "      <th>textures_flat</th>\n",
              "      <td>0</td>\n",
              "    </tr>\n",
              "    <tr>\n",
              "      <th>textures_rough_or_flaky</th>\n",
              "      <td>0</td>\n",
              "    </tr>\n",
              "    <tr>\n",
              "      <th>textures_fluid_filled</th>\n",
              "      <td>0</td>\n",
              "    </tr>\n",
              "    <tr>\n",
              "      <th>body_parts_head_or_neck</th>\n",
              "      <td>0</td>\n",
              "    </tr>\n",
              "    <tr>\n",
              "      <th>body_parts_arm</th>\n",
              "      <td>0</td>\n",
              "    </tr>\n",
              "    <tr>\n",
              "      <th>body_parts_palm</th>\n",
              "      <td>0</td>\n",
              "    </tr>\n",
              "  </tbody>\n",
              "</table>\n",
              "</div><br><label><b>dtype:</b> int64</label>"
            ]
          },
          "metadata": {}
        },
        {
          "output_type": "stream",
          "name": "stdout",
          "text": [
            "\n",
            "➕ New columns after preprocessing: 104\n",
            "➖ Dropped columns after preprocessing: 28\n"
          ]
        },
        {
          "output_type": "display_data",
          "data": {
            "text/plain": [
              "<Figure size 1000x400 with 2 Axes>"
            ],
            "image/png": "[encoded data removed]"
          },
          "metadata": {}
        },
        {
          "output_type": "display_data",
          "data": {
            "text/plain": [
              "<Figure size 1000x400 with 2 Axes>"
            ],
            "image/png": "[encoded data removed]"
          },
          "metadata": {}
        },
        {
          "output_type": "stream",
          "name": "stdout",
          "text": [
            "\n",
            "📊 Label distribution in raw data:\n"
          ]
        },
        {
          "output_type": "display_data",
          "data": {
            "text/plain": [
              "Eczema                         713\n",
              "Allergic Contact Dermatitis    568\n",
              "Insect Bite                    279\n",
              "Urticaria                      244\n",
              "Folliculitis                   197\n",
              "Psoriasis                      167\n",
              "Irritant Contact Dermatitis    162\n",
              "Tinea                          111\n",
              "Herpes Simplex                 104\n",
              "Herpes Zoster                   97\n",
              "dtype: int64"
            ],
            "text/html": [
              "<div>\n",
              "<style scoped>\n",
              "    .dataframe tbody tr th:only-of-type {\n",
              "        vertical-align: middle;\n",
              "    }\n",
              "\n",
              "    .dataframe tbody tr th {\n",
              "        vertical-align: top;\n",
              "    }\n",
              "\n",
              "    .dataframe thead th {\n",
              "        text-align: right;\n",
              "    }\n",
              "</style>\n",
              "<table border=\"1\" class=\"dataframe\">\n",
              "  <thead>\n",
              "    <tr style=\"text-align: right;\">\n",
              "      <th></th>\n",
              "      <th>0</th>\n",
              "    </tr>\n",
              "  </thead>\n",
              "  <tbody>\n",
              "    <tr>\n",
              "      <th>Eczema</th>\n",
              "      <td>713</td>\n",
              "    </tr>\n",
              "    <tr>\n",
              "      <th>Allergic Contact Dermatitis</th>\n",
              "      <td>568</td>\n",
              "    </tr>\n",
              "    <tr>\n",
              "      <th>Insect Bite</th>\n",
              "      <td>279</td>\n",
              "    </tr>\n",
              "    <tr>\n",
              "      <th>Urticaria</th>\n",
              "      <td>244</td>\n",
              "    </tr>\n",
              "    <tr>\n",
              "      <th>Folliculitis</th>\n",
              "      <td>197</td>\n",
              "    </tr>\n",
              "    <tr>\n",
              "      <th>Psoriasis</th>\n",
              "      <td>167</td>\n",
              "    </tr>\n",
              "    <tr>\n",
              "      <th>Irritant Contact Dermatitis</th>\n",
              "      <td>162</td>\n",
              "    </tr>\n",
              "    <tr>\n",
              "      <th>Tinea</th>\n",
              "      <td>111</td>\n",
              "    </tr>\n",
              "    <tr>\n",
              "      <th>Herpes Simplex</th>\n",
              "      <td>104</td>\n",
              "    </tr>\n",
              "    <tr>\n",
              "      <th>Herpes Zoster</th>\n",
              "      <td>97</td>\n",
              "    </tr>\n",
              "  </tbody>\n",
              "</table>\n",
              "</div><br><label><b>dtype:</b> int64</label>"
            ]
          },
          "metadata": {}
        },
        {
          "output_type": "stream",
          "name": "stdout",
          "text": [
            "\n",
            "📊 Label distribution in processed data:\n"
          ]
        },
        {
          "output_type": "display_data",
          "data": {
            "text/plain": [
              "label_eczema                         1488\n",
              "label_allergic_contact_dermatitis    1173\n",
              "label_insect_bite                     553\n",
              "label_urticaria                       493\n",
              "label_folliculitis                    395\n",
              "label_psoriasis                       312\n",
              "label_irritant_contact_dermatitis     311\n",
              "label_tinea                           241\n",
              "label_herpes_simplex                  199\n",
              "label_herpes_zoster                   187\n",
              "dtype: int64"
            ],
            "text/html": [
              "<div>\n",
              "<style scoped>\n",
              "    .dataframe tbody tr th:only-of-type {\n",
              "        vertical-align: middle;\n",
              "    }\n",
              "\n",
              "    .dataframe tbody tr th {\n",
              "        vertical-align: top;\n",
              "    }\n",
              "\n",
              "    .dataframe thead th {\n",
              "        text-align: right;\n",
              "    }\n",
              "</style>\n",
              "<table border=\"1\" class=\"dataframe\">\n",
              "  <thead>\n",
              "    <tr style=\"text-align: right;\">\n",
              "      <th></th>\n",
              "      <th>0</th>\n",
              "    </tr>\n",
              "  </thead>\n",
              "  <tbody>\n",
              "    <tr>\n",
              "      <th>label_eczema</th>\n",
              "      <td>1488</td>\n",
              "    </tr>\n",
              "    <tr>\n",
              "      <th>label_allergic_contact_dermatitis</th>\n",
              "      <td>1173</td>\n",
              "    </tr>\n",
              "    <tr>\n",
              "      <th>label_insect_bite</th>\n",
              "      <td>553</td>\n",
              "    </tr>\n",
              "    <tr>\n",
              "      <th>label_urticaria</th>\n",
              "      <td>493</td>\n",
              "    </tr>\n",
              "    <tr>\n",
              "      <th>label_folliculitis</th>\n",
              "      <td>395</td>\n",
              "    </tr>\n",
              "    <tr>\n",
              "      <th>label_psoriasis</th>\n",
              "      <td>312</td>\n",
              "    </tr>\n",
              "    <tr>\n",
              "      <th>label_irritant_contact_dermatitis</th>\n",
              "      <td>311</td>\n",
              "    </tr>\n",
              "    <tr>\n",
              "      <th>label_tinea</th>\n",
              "      <td>241</td>\n",
              "    </tr>\n",
              "    <tr>\n",
              "      <th>label_herpes_simplex</th>\n",
              "      <td>199</td>\n",
              "    </tr>\n",
              "    <tr>\n",
              "      <th>label_herpes_zoster</th>\n",
              "      <td>187</td>\n",
              "    </tr>\n",
              "  </tbody>\n",
              "</table>\n",
              "</div><br><label><b>dtype:</b> int64</label>"
            ]
          },
          "metadata": {}
        },
        {
          "output_type": "stream",
          "name": "stdout",
          "text": [
            "\n",
            "🧹 Number of labels before filtering: 279\n",
            "🧽 Number of labels after filtering: 83\n"
          ]
        }
      ]
    }
  ]
}
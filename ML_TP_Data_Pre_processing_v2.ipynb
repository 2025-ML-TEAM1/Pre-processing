{
  "nbformat": 4,
  "nbformat_minor": 0,
  "metadata": {
    "colab": {
      "provenance": [],
      "machine_shape": "hm"
    },
    "kernelspec": {
      "name": "python3",
      "display_name": "Python 3"
    },
    "language_info": {
      "name": "python"
    }
  },
  "cells": [
    {
      "cell_type": "code",
      "source": [
        "# 1. gdown 설치\n",
        "!pip install -U gdown\n",
        "\n",
        "# 2. Google Drive 파일 ID 매핑\n",
        "files = {\n",
        "    \"scin_data.zip\": \"1exT7RM2JivZjXT5NVb3U61GCh4i6hjQo\",\n",
        "    \"images_v1.zip\": \"1sRyIC4mw_UHzLC-5XjUuQBAfILSNQVf2\",\n",
        "    \"images_v2.zip\": \"13uGHXVTyyEkiKDTSCPa2T-MFFThQ_Y-T\",\n",
        "    \"images_v3.zip\": \"1jdWlsHe96cK15C51zj_PJs9C9W-l99V2\",\n",
        "\n",
        "    \"matched_merged_final1_v1.zip\": \"1u5_dObfbysz6FXAMEvptoUS7XjefrD8z\",\n",
        "    \"matched_merged_final1_v2.zip\": \"1vbxGrnQtsFENFp4tp0uy_1LfOIW2nQ6b\",\n",
        "    \"matched_merged_final1_v3.zip\": \"1ZkJE4LQqi8tIsxmqqoNFbb5vzon3sN6W\",\n",
        "    \"matched_merged_final2_v1.zip\": \"18RUUtGLIDbkdd-MLDpepD_U6fQhVC-Ss\",\n",
        "    \"matched_merged_final2_v2.zip\": \"15zMB-a8hNlSIH_t1l2uMiJ6BhQW3t1mt\",\n",
        "    \"matched_merged_final2_v3.zip\": \"1Zff-gyWALYzkGUJW0eiaPl_K_qw_q7uW\",\n",
        "\n",
        "    # https://drive.google.com/file/d/1u5_dObfbysz6FXAMEvptoUS7XjefrD8z/view?usp=drive_link\n",
        "    # https://drive.google.com/file/d/1vbxGrnQtsFENFp4tp0uy_1LfOIW2nQ6b/view?usp=drive_link\n",
        "    # https://drive.google.com/file/d/1ZkJE4LQqi8tIsxmqqoNFbb5vzon3sN6W/view?usp=drive_link\n",
        "    # https://drive.google.com/file/d/18RUUtGLIDbkdd-MLDpepD_U6fQhVC-Ss/view?usp=drive_link\n",
        "    # https://drive.google.com/file/d/15zMB-a8hNlSIH_t1l2uMiJ6BhQW3t1mt/view?usp=drive_link\n",
        "    # https://drive.google.com/file/d/1Zff-gyWALYzkGUJW0eiaPl_K_qw_q7uW/view?usp=drive_link\n",
        "\n",
        "}\n",
        "\n",
        "# 3. 다운로드\n",
        "for filename, file_id in files.items():\n",
        "    !gdown --id {file_id} --output /content/{filename}\n",
        "    print(f\"다운로드 완료: {filename}\")\n",
        "\n",
        "# 4. 압축 해제 함수\n",
        "import zipfile, os\n",
        "\n",
        "def unzip_all():\n",
        "    for filename in files.keys():\n",
        "        zip_path = os.path.join(\"/content\", filename)\n",
        "        extract_dir = zip_path.replace(\".zip\", \"\")\n",
        "        with zipfile.ZipFile(zip_path, 'r') as zip_ref:\n",
        "            zip_ref.extractall(extract_dir)\n",
        "        print(f\"압축 해제 완료: {extract_dir}\")\n",
        "\n",
        "unzip_all()\n"
      ],
      "metadata": {
        "colab": {
          "base_uri": "https://localhost:8080/"
        },
        "id": "CGyw2QQYhW1u",
        "outputId": "be886096-531e-4333-8b6b-15b8be8c515a"
      },
      "execution_count": 5,
      "outputs": [
        {
          "output_type": "stream",
          "name": "stdout",
          "text": [
            "Requirement already satisfied: gdown in /usr/local/lib/python3.11/dist-packages (5.2.0)\n",
            "Requirement already satisfied: beautifulsoup4 in /usr/local/lib/python3.11/dist-packages (from gdown) (4.13.4)\n",
            "Requirement already satisfied: filelock in /usr/local/lib/python3.11/dist-packages (from gdown) (3.18.0)\n",
            "Requirement already satisfied: requests[socks] in /usr/local/lib/python3.11/dist-packages (from gdown) (2.32.3)\n",
            "Requirement already satisfied: tqdm in /usr/local/lib/python3.11/dist-packages (from gdown) (4.67.1)\n",
            "Requirement already satisfied: soupsieve>1.2 in /usr/local/lib/python3.11/dist-packages (from beautifulsoup4->gdown) (2.7)\n",
            "Requirement already satisfied: typing-extensions>=4.0.0 in /usr/local/lib/python3.11/dist-packages (from beautifulsoup4->gdown) (4.13.2)\n",
            "Requirement already satisfied: charset-normalizer<4,>=2 in /usr/local/lib/python3.11/dist-packages (from requests[socks]->gdown) (3.4.2)\n",
            "Requirement already satisfied: idna<4,>=2.5 in /usr/local/lib/python3.11/dist-packages (from requests[socks]->gdown) (3.10)\n",
            "Requirement already satisfied: urllib3<3,>=1.21.1 in /usr/local/lib/python3.11/dist-packages (from requests[socks]->gdown) (2.4.0)\n",
            "Requirement already satisfied: certifi>=2017.4.17 in /usr/local/lib/python3.11/dist-packages (from requests[socks]->gdown) (2025.4.26)\n",
            "Requirement already satisfied: PySocks!=1.5.7,>=1.5.6 in /usr/local/lib/python3.11/dist-packages (from requests[socks]->gdown) (1.7.1)\n",
            "/usr/local/lib/python3.11/dist-packages/gdown/__main__.py:140: FutureWarning: Option `--id` was deprecated in version 4.3.1 and will be removed in 5.0. You don't need to pass it anymore to use a file ID.\n",
            "  warnings.warn(\n",
            "Downloading...\n",
            "From (original): https://drive.google.com/uc?id=1exT7RM2JivZjXT5NVb3U61GCh4i6hjQo\n",
            "From (redirected): https://drive.google.com/uc?id=1exT7RM2JivZjXT5NVb3U61GCh4i6hjQo&confirm=t&uuid=29d9bd63-6a3d-4370-8e20-07e8579ea6e1\n",
            "To: /content/scin_data.zip\n",
            "100% 12.5G/12.5G [03:46<00:00, 55.2MB/s]\n",
            "다운로드 완료: scin_data.zip\n",
            "/usr/local/lib/python3.11/dist-packages/gdown/__main__.py:140: FutureWarning: Option `--id` was deprecated in version 4.3.1 and will be removed in 5.0. You don't need to pass it anymore to use a file ID.\n",
            "  warnings.warn(\n",
            "Failed to retrieve file url:\n",
            "\n",
            "\tToo many users have viewed or downloaded this file recently. Please\n",
            "\ttry accessing the file again later. If the file you are trying to\n",
            "\taccess is particularly large or is shared with many people, it may\n",
            "\ttake up to 24 hours to be able to view or download the file. If you\n",
            "\tstill can't access a file after 24 hours, contact your domain\n",
            "\tadministrator.\n",
            "\n",
            "You may still be able to access the file from the browser:\n",
            "\n",
            "\thttps://drive.google.com/uc?id=1sRyIC4mw_UHzLC-5XjUuQBAfILSNQVf2\n",
            "\n",
            "but Gdown can't. Please check connections and permissions.\n",
            "다운로드 완료: images_v1.zip\n",
            "/usr/local/lib/python3.11/dist-packages/gdown/__main__.py:140: FutureWarning: Option `--id` was deprecated in version 4.3.1 and will be removed in 5.0. You don't need to pass it anymore to use a file ID.\n",
            "  warnings.warn(\n",
            "Failed to retrieve file url:\n",
            "\n",
            "\tToo many users have viewed or downloaded this file recently. Please\n",
            "\ttry accessing the file again later. If the file you are trying to\n",
            "\taccess is particularly large or is shared with many people, it may\n",
            "\ttake up to 24 hours to be able to view or download the file. If you\n",
            "\tstill can't access a file after 24 hours, contact your domain\n",
            "\tadministrator.\n",
            "\n",
            "You may still be able to access the file from the browser:\n",
            "\n",
            "\thttps://drive.google.com/uc?id=1EArVjsPI0G4lmI2d_CNLXKiwsexgCORj\n",
            "\n",
            "but Gdown can't. Please check connections and permissions.\n",
            "다운로드 완료: images_v2.zip\n",
            "/usr/local/lib/python3.11/dist-packages/gdown/__main__.py:140: FutureWarning: Option `--id` was deprecated in version 4.3.1 and will be removed in 5.0. You don't need to pass it anymore to use a file ID.\n",
            "  warnings.warn(\n",
            "Failed to retrieve file url:\n",
            "\n",
            "\tToo many users have viewed or downloaded this file recently. Please\n",
            "\ttry accessing the file again later. If the file you are trying to\n",
            "\taccess is particularly large or is shared with many people, it may\n",
            "\ttake up to 24 hours to be able to view or download the file. If you\n",
            "\tstill can't access a file after 24 hours, contact your domain\n",
            "\tadministrator.\n",
            "\n",
            "You may still be able to access the file from the browser:\n",
            "\n",
            "\thttps://drive.google.com/uc?id=1jdWlsHe96cK15C51zj_PJs9C9W-l99V2\n",
            "\n",
            "but Gdown can't. Please check connections and permissions.\n",
            "다운로드 완료: images_v3.zip\n",
            "압축 해제 완료: /content/scin_data\n",
            "압축 해제 완료: /content/images_v1\n",
            "압축 해제 완료: /content/images_v2\n",
            "압축 해제 완료: /content/images_v3\n"
          ]
        }
      ]
    },
    {
      "cell_type": "code",
      "source": [
        "# 데이터셋 파일 직접 업로드 (기본적으로 /content/ 경로에 저장)\n",
        "import os\n",
        "\n",
        "from google.colab import files\n",
        "uploaded = files.upload()\n",
        "\n",
        "filename = list(uploaded.keys())[0]\n",
        "print(\"업로드된 파일 이름:\", filename)\n"
      ],
      "metadata": {
        "colab": {
          "base_uri": "https://localhost:8080/",
          "height": 265
        },
        "id": "g_X98-UFYjxV",
        "outputId": "c54f1600-3eff-40fb-b361-1d4c4db5b894"
      },
      "execution_count": 6,
      "outputs": [
        {
          "output_type": "display_data",
          "data": {
            "text/plain": [
              "<IPython.core.display.HTML object>"
            ],
            "text/html": [
              "\n",
              "     <input type=\"file\" id=\"files-aeeeb907-b304-4ae6-aae0-72dda2e30ffa\" name=\"files[]\" multiple disabled\n",
              "        style=\"border:none\" />\n",
              "     <output id=\"result-aeeeb907-b304-4ae6-aae0-72dda2e30ffa\">\n",
              "      Upload widget is only available when the cell has been executed in the\n",
              "      current browser session. Please rerun this cell to enable.\n",
              "      </output>\n",
              "      <script>// Copyright 2017 Google LLC\n",
              "//\n",
              "// Licensed under the Apache License, Version 2.0 (the \"License\");\n",
              "// you may not use this file except in compliance with the License.\n",
              "// You may obtain a copy of the License at\n",
              "//\n",
              "//      http://www.apache.org/licenses/LICENSE-2.0\n",
              "//\n",
              "// Unless required by applicable law or agreed to in writing, software\n",
              "// distributed under the License is distributed on an \"AS IS\" BASIS,\n",
              "// WITHOUT WARRANTIES OR CONDITIONS OF ANY KIND, either express or implied.\n",
              "// See the License for the specific language governing permissions and\n",
              "// limitations under the License.\n",
              "\n",
              "/**\n",
              " * @fileoverview Helpers for google.colab Python module.\n",
              " */\n",
              "(function(scope) {\n",
              "function span(text, styleAttributes = {}) {\n",
              "  const element = document.createElement('span');\n",
              "  element.textContent = text;\n",
              "  for (const key of Object.keys(styleAttributes)) {\n",
              "    element.style[key] = styleAttributes[key];\n",
              "  }\n",
              "  return element;\n",
              "}\n",
              "\n",
              "// Max number of bytes which will be uploaded at a time.\n",
              "const MAX_PAYLOAD_SIZE = 100 * 1024;\n",
              "\n",
              "function _uploadFiles(inputId, outputId) {\n",
              "  const steps = uploadFilesStep(inputId, outputId);\n",
              "  const outputElement = document.getElementById(outputId);\n",
              "  // Cache steps on the outputElement to make it available for the next call\n",
              "  // to uploadFilesContinue from Python.\n",
              "  outputElement.steps = steps;\n",
              "\n",
              "  return _uploadFilesContinue(outputId);\n",
              "}\n",
              "\n",
              "// This is roughly an async generator (not supported in the browser yet),\n",
              "// where there are multiple asynchronous steps and the Python side is going\n",
              "// to poll for completion of each step.\n",
              "// This uses a Promise to block the python side on completion of each step,\n",
              "// then passes the result of the previous step as the input to the next step.\n",
              "function _uploadFilesContinue(outputId) {\n",
              "  const outputElement = document.getElementById(outputId);\n",
              "  const steps = outputElement.steps;\n",
              "\n",
              "  const next = steps.next(outputElement.lastPromiseValue);\n",
              "  return Promise.resolve(next.value.promise).then((value) => {\n",
              "    // Cache the last promise value to make it available to the next\n",
              "    // step of the generator.\n",
              "    outputElement.lastPromiseValue = value;\n",
              "    return next.value.response;\n",
              "  });\n",
              "}\n",
              "\n",
              "/**\n",
              " * Generator function which is called between each async step of the upload\n",
              " * process.\n",
              " * @param {string} inputId Element ID of the input file picker element.\n",
              " * @param {string} outputId Element ID of the output display.\n",
              " * @return {!Iterable<!Object>} Iterable of next steps.\n",
              " */\n",
              "function* uploadFilesStep(inputId, outputId) {\n",
              "  const inputElement = document.getElementById(inputId);\n",
              "  inputElement.disabled = false;\n",
              "\n",
              "  const outputElement = document.getElementById(outputId);\n",
              "  outputElement.innerHTML = '';\n",
              "\n",
              "  const pickedPromise = new Promise((resolve) => {\n",
              "    inputElement.addEventListener('change', (e) => {\n",
              "      resolve(e.target.files);\n",
              "    });\n",
              "  });\n",
              "\n",
              "  const cancel = document.createElement('button');\n",
              "  inputElement.parentElement.appendChild(cancel);\n",
              "  cancel.textContent = 'Cancel upload';\n",
              "  const cancelPromise = new Promise((resolve) => {\n",
              "    cancel.onclick = () => {\n",
              "      resolve(null);\n",
              "    };\n",
              "  });\n",
              "\n",
              "  // Wait for the user to pick the files.\n",
              "  const files = yield {\n",
              "    promise: Promise.race([pickedPromise, cancelPromise]),\n",
              "    response: {\n",
              "      action: 'starting',\n",
              "    }\n",
              "  };\n",
              "\n",
              "  cancel.remove();\n",
              "\n",
              "  // Disable the input element since further picks are not allowed.\n",
              "  inputElement.disabled = true;\n",
              "\n",
              "  if (!files) {\n",
              "    return {\n",
              "      response: {\n",
              "        action: 'complete',\n",
              "      }\n",
              "    };\n",
              "  }\n",
              "\n",
              "  for (const file of files) {\n",
              "    const li = document.createElement('li');\n",
              "    li.append(span(file.name, {fontWeight: 'bold'}));\n",
              "    li.append(span(\n",
              "        `(${file.type || 'n/a'}) - ${file.size} bytes, ` +\n",
              "        `last modified: ${\n",
              "            file.lastModifiedDate ? file.lastModifiedDate.toLocaleDateString() :\n",
              "                                    'n/a'} - `));\n",
              "    const percent = span('0% done');\n",
              "    li.appendChild(percent);\n",
              "\n",
              "    outputElement.appendChild(li);\n",
              "\n",
              "    const fileDataPromise = new Promise((resolve) => {\n",
              "      const reader = new FileReader();\n",
              "      reader.onload = (e) => {\n",
              "        resolve(e.target.result);\n",
              "      };\n",
              "      reader.readAsArrayBuffer(file);\n",
              "    });\n",
              "    // Wait for the data to be ready.\n",
              "    let fileData = yield {\n",
              "      promise: fileDataPromise,\n",
              "      response: {\n",
              "        action: 'continue',\n",
              "      }\n",
              "    };\n",
              "\n",
              "    // Use a chunked sending to avoid message size limits. See b/62115660.\n",
              "    let position = 0;\n",
              "    do {\n",
              "      const length = Math.min(fileData.byteLength - position, MAX_PAYLOAD_SIZE);\n",
              "      const chunk = new Uint8Array(fileData, position, length);\n",
              "      position += length;\n",
              "\n",
              "      const base64 = btoa(String.fromCharCode.apply(null, chunk));\n",
              "      yield {\n",
              "        response: {\n",
              "          action: 'append',\n",
              "          file: file.name,\n",
              "          data: base64,\n",
              "        },\n",
              "      };\n",
              "\n",
              "      let percentDone = fileData.byteLength === 0 ?\n",
              "          100 :\n",
              "          Math.round((position / fileData.byteLength) * 100);\n",
              "      percent.textContent = `${percentDone}% done`;\n",
              "\n",
              "    } while (position < fileData.byteLength);\n",
              "  }\n",
              "\n",
              "  // All done.\n",
              "  yield {\n",
              "    response: {\n",
              "      action: 'complete',\n",
              "    }\n",
              "  };\n",
              "}\n",
              "\n",
              "scope.google = scope.google || {};\n",
              "scope.google.colab = scope.google.colab || {};\n",
              "scope.google.colab._files = {\n",
              "  _uploadFiles,\n",
              "  _uploadFilesContinue,\n",
              "};\n",
              "})(self);\n",
              "</script> "
            ]
          },
          "metadata": {}
        },
        {
          "output_type": "stream",
          "name": "stdout",
          "text": [
            "Saving merged_final1_v1.csv to merged_final1_v1.csv\n",
            "Saving merged_final1_v2.csv to merged_final1_v2.csv\n",
            "Saving merged_final1_v3.csv to merged_final1_v3.csv\n",
            "Saving merged_final2_v1.csv to merged_final2_v1.csv\n",
            "Saving merged_final2_v2.csv to merged_final2_v2.csv\n",
            "Saving merged_final2_v3.csv to merged_final2_v3.csv\n",
            "업로드된 파일 이름: merged_final1_v1.csv\n"
          ]
        }
      ]
    },
    {
      "cell_type": "code",
      "source": [
        "import os\n",
        "import pandas as pd\n",
        "from PIL import Image\n",
        "from torchvision import transforms\n",
        "from torchvision.transforms.functional import to_pil_image\n",
        "\n",
        "# 1. 경로 설정\n",
        "csv_path = \"/content/scin_data/content/scin_data/dataset/scin_cases.csv\"\n",
        "base_root = \"/content/scin_data/content/scin_data/\"\n",
        "\n",
        "# 2. 데이터 불러오기 및 image_1_path 필터링\n",
        "df = pd.read_csv(csv_path)\n",
        "df = df[['case_id', 'image_1_path', 'image_2_path', 'image_3_path']]\n",
        "df = df.dropna(subset=['image_1_path']).reset_index(drop=True)  # image_1_path 없는 샘플 제거\n",
        "\n",
        "#image_2_path 및 image_3_path 존재하는 샘플 수 출력\n",
        "image_2_count = df['image_2_path'].notna().sum()\n",
        "image_3_count = df['image_3_path'].notna().sum()\n",
        "\n",
        "# 3. 모든 전처리 대상 경로 수집\n",
        "image_paths = []\n",
        "\n",
        "for _, row in df.iterrows():\n",
        "    for key in ['image_1_path', 'image_2_path', 'image_3_path']:\n",
        "        path = row.get(key)\n",
        "        if pd.notna(path):\n",
        "            full_path = os.path.join(base_root, path)\n",
        "            if os.path.exists(full_path):\n",
        "                image_paths.append(full_path)\n",
        "\n",
        "# 4. 중복 제거 및 정렬\n",
        "image_paths = sorted(set(image_paths))\n",
        "\n",
        "# 5. 전처리 버전 정의\n",
        "transform_v1 = transforms.Compose([\n",
        "    transforms.Resize((224, 224)),\n",
        "    transforms.ToTensor(),\n",
        "    transforms.Normalize(mean=[0.5]*3, std=[0.5]*3)\n",
        "])\n",
        "\n",
        "transform_v2 = transforms.Compose([\n",
        "    transforms.Resize((224, 224)),\n",
        "    transforms.RandomHorizontalFlip(p=0.5),\n",
        "    transforms.RandomRotation(15),\n",
        "    transforms.ToTensor(),\n",
        "    transforms.Normalize(mean=[0.5]*3, std=[0.5]*3)\n",
        "])\n",
        "\n",
        "transform_v3 = transforms.Compose([\n",
        "    transforms.RandomResizedCrop(224, scale=(0.8, 1.0)),\n",
        "    transforms.RandomHorizontalFlip(),\n",
        "    transforms.RandomAffine(degrees=20, translate=(0.1, 0.1)),\n",
        "    transforms.ColorJitter(brightness=0.2, contrast=0.2, saturation=0.2),\n",
        "    transforms.ToTensor(),\n",
        "    transforms.Normalize(mean=[0.5]*3, std=[0.5]*3)\n",
        "])\n",
        "\n",
        "# 6. 전처리 및 저장 함수\n",
        "def preprocess_and_save(image_paths, transform, version_name):\n",
        "    save_dir = f\"/content/images_{version_name}\"\n",
        "    os.makedirs(save_dir, exist_ok=True)\n",
        "\n",
        "    saved_count = 0\n",
        "    for image_path in image_paths:\n",
        "        try:\n",
        "            img = Image.open(image_path).convert(\"RGB\")\n",
        "            transformed_tensor = transform(img)\n",
        "            transformed_img = to_pil_image(transformed_tensor)\n",
        "\n",
        "            # 원본 이미지 파일명 유지, 확장자만 .png로\n",
        "            filename = os.path.splitext(os.path.basename(image_path))[0] + \".png\"\n",
        "            save_path = os.path.join(save_dir, filename)\n",
        "            transformed_img.save(save_path)\n",
        "\n",
        "            saved_count += 1\n",
        "\n",
        "        except Exception as e:\n",
        "            print(f\"[{version_name}] {image_path} 실패 → {e}\")\n",
        "\n",
        "    print(f\"\\n [{version_name}] 저장 완료 → 총 {saved_count}개 파일 저장됨\")\n",
        "    return save_dir\n",
        "\n",
        "# 7. 실행\n",
        "dir_v1 = preprocess_and_save(image_paths, transform_v1, \"v1\")\n",
        "dir_v2 = preprocess_and_save(image_paths, transform_v2, \"v2\")\n",
        "dir_v3 = preprocess_and_save(image_paths, transform_v3, \"v3\")\n",
        "\n",
        "# 8. 요약 정보 출력\n",
        "print(\"\\nimage_1_path 존재 샘플 수:\", len(df))\n",
        "print(\"image_2_path 존재 샘플 수:\", image_2_count)\n",
        "print(\"image_3_path 존재 샘플 수:\", image_3_count)\n",
        "print(\"전처리 대상 이미지 수 (중복 제거 후):\", len(image_paths))\n",
        "print(\"예시 이미지 경로:\", image_paths[:3])\n"
      ],
      "metadata": {
        "colab": {
          "base_uri": "https://localhost:8080/"
        },
        "id": "zo_5sXI-B-XN",
        "outputId": "d5215c90-3a05-4c17-c6c6-09f3c8b381bc"
      },
      "execution_count": null,
      "outputs": [
        {
          "output_type": "stream",
          "name": "stdout",
          "text": [
            "\n",
            "✅ [v1] 저장 완료 → 총 10379개 파일 저장됨\n",
            "\n",
            "✅ [v2] 저장 완료 → 총 10379개 파일 저장됨\n",
            "\n",
            "✅ [v3] 저장 완료 → 총 10379개 파일 저장됨\n",
            "\n",
            "📦 전체 샘플 수 (image_1_path 기준): 5033\n",
            "📁 전처리 대상 이미지 수 (중복 제거 후): 10379\n",
            "🖼️ 예시 이미지 경로: ['/content/scin_data/content/scin_data/dataset/images/-1001492676369731180.png', '/content/scin_data/content/scin_data/dataset/images/-1001733364362669777.png', '/content/scin_data/content/scin_data/dataset/images/-1003800477193786941.png']\n"
          ]
        }
      ]
    },
    {
      "cell_type": "code",
      "source": [
        "from google.colab import files\n",
        "import shutil\n",
        "import os\n",
        "\n",
        "def download_preprocessed_images():\n",
        "    for version in ['v1', 'v2', 'v3']:\n",
        "        folder_path = f\"/content/images_{version}\"\n",
        "        zip_path = f\"/content/images_{version}.zip\"\n",
        "\n",
        "        # 이미 zip 파일이 존재하면 삭제 (중복 방지)\n",
        "        if os.path.exists(zip_path):\n",
        "            os.remove(zip_path)\n",
        "\n",
        "        # zip 파일 생성 (이름: images_v1.zip 등)\n",
        "        shutil.make_archive(base_name=zip_path.replace('.zip', ''), format='zip', root_dir=folder_path)\n",
        "        print(f\"압축 완료: {zip_path}\")\n",
        "\n",
        "        # 로컬로 다운로드\n",
        "        files.download(zip_path)\n",
        "\n",
        "download_preprocessed_images()"
      ],
      "metadata": {
        "colab": {
          "base_uri": "https://localhost:8080/",
          "height": 69
        },
        "id": "z7r_Ev3sI69-",
        "outputId": "dae8cc29-f9fd-43ea-d17f-06fd4d898ff4"
      },
      "execution_count": null,
      "outputs": [
        {
          "output_type": "stream",
          "name": "stdout",
          "text": [
            "📦 압축 완료: /content/images_v1.zip\n"
          ]
        },
        {
          "output_type": "display_data",
          "data": {
            "text/plain": [
              "<IPython.core.display.Javascript object>"
            ],
            "application/javascript": [
              "\n",
              "    async function download(id, filename, size) {\n",
              "      if (!google.colab.kernel.accessAllowed) {\n",
              "        return;\n",
              "      }\n",
              "      const div = document.createElement('div');\n",
              "      const label = document.createElement('label');\n",
              "      label.textContent = `Downloading \"${filename}\": `;\n",
              "      div.appendChild(label);\n",
              "      const progress = document.createElement('progress');\n",
              "      progress.max = size;\n",
              "      div.appendChild(progress);\n",
              "      document.body.appendChild(div);\n",
              "\n",
              "      const buffers = [];\n",
              "      let downloaded = 0;\n",
              "\n",
              "      const channel = await google.colab.kernel.comms.open(id);\n",
              "      // Send a message to notify the kernel that we're ready.\n",
              "      channel.send({})\n",
              "\n",
              "      for await (const message of channel.messages) {\n",
              "        // Send a message to notify the kernel that we're ready.\n",
              "        channel.send({})\n",
              "        if (message.buffers) {\n",
              "          for (const buffer of message.buffers) {\n",
              "            buffers.push(buffer);\n",
              "            downloaded += buffer.byteLength;\n",
              "            progress.value = downloaded;\n",
              "          }\n",
              "        }\n",
              "      }\n",
              "      const blob = new Blob(buffers, {type: 'application/binary'});\n",
              "      const a = document.createElement('a');\n",
              "      a.href = window.URL.createObjectURL(blob);\n",
              "      a.download = filename;\n",
              "      div.appendChild(a);\n",
              "      a.click();\n",
              "      div.remove();\n",
              "    }\n",
              "  "
            ]
          },
          "metadata": {}
        },
        {
          "output_type": "display_data",
          "data": {
            "text/plain": [
              "<IPython.core.display.Javascript object>"
            ],
            "application/javascript": [
              "download(\"download_5ef9b1af-b281-4075-944c-a7538d3fc4bb\", \"images_v1.zip\", 697716331)"
            ]
          },
          "metadata": {}
        },
        {
          "output_type": "stream",
          "name": "stdout",
          "text": [
            "📦 압축 완료: /content/images_v2.zip\n"
          ]
        },
        {
          "output_type": "display_data",
          "data": {
            "text/plain": [
              "<IPython.core.display.Javascript object>"
            ],
            "application/javascript": [
              "\n",
              "    async function download(id, filename, size) {\n",
              "      if (!google.colab.kernel.accessAllowed) {\n",
              "        return;\n",
              "      }\n",
              "      const div = document.createElement('div');\n",
              "      const label = document.createElement('label');\n",
              "      label.textContent = `Downloading \"${filename}\": `;\n",
              "      div.appendChild(label);\n",
              "      const progress = document.createElement('progress');\n",
              "      progress.max = size;\n",
              "      div.appendChild(progress);\n",
              "      document.body.appendChild(div);\n",
              "\n",
              "      const buffers = [];\n",
              "      let downloaded = 0;\n",
              "\n",
              "      const channel = await google.colab.kernel.comms.open(id);\n",
              "      // Send a message to notify the kernel that we're ready.\n",
              "      channel.send({})\n",
              "\n",
              "      for await (const message of channel.messages) {\n",
              "        // Send a message to notify the kernel that we're ready.\n",
              "        channel.send({})\n",
              "        if (message.buffers) {\n",
              "          for (const buffer of message.buffers) {\n",
              "            buffers.push(buffer);\n",
              "            downloaded += buffer.byteLength;\n",
              "            progress.value = downloaded;\n",
              "          }\n",
              "        }\n",
              "      }\n",
              "      const blob = new Blob(buffers, {type: 'application/binary'});\n",
              "      const a = document.createElement('a');\n",
              "      a.href = window.URL.createObjectURL(blob);\n",
              "      a.download = filename;\n",
              "      div.appendChild(a);\n",
              "      a.click();\n",
              "      div.remove();\n",
              "    }\n",
              "  "
            ]
          },
          "metadata": {}
        },
        {
          "output_type": "display_data",
          "data": {
            "text/plain": [
              "<IPython.core.display.Javascript object>"
            ],
            "application/javascript": [
              "download(\"download_8a2a4c01-63b4-4055-bab8-a29b689e77e9\", \"images_v2.zip\", 688793437)"
            ]
          },
          "metadata": {}
        },
        {
          "output_type": "stream",
          "name": "stdout",
          "text": [
            "📦 압축 완료: /content/images_v3.zip\n"
          ]
        },
        {
          "output_type": "display_data",
          "data": {
            "text/plain": [
              "<IPython.core.display.Javascript object>"
            ],
            "application/javascript": [
              "\n",
              "    async function download(id, filename, size) {\n",
              "      if (!google.colab.kernel.accessAllowed) {\n",
              "        return;\n",
              "      }\n",
              "      const div = document.createElement('div');\n",
              "      const label = document.createElement('label');\n",
              "      label.textContent = `Downloading \"${filename}\": `;\n",
              "      div.appendChild(label);\n",
              "      const progress = document.createElement('progress');\n",
              "      progress.max = size;\n",
              "      div.appendChild(progress);\n",
              "      document.body.appendChild(div);\n",
              "\n",
              "      const buffers = [];\n",
              "      let downloaded = 0;\n",
              "\n",
              "      const channel = await google.colab.kernel.comms.open(id);\n",
              "      // Send a message to notify the kernel that we're ready.\n",
              "      channel.send({})\n",
              "\n",
              "      for await (const message of channel.messages) {\n",
              "        // Send a message to notify the kernel that we're ready.\n",
              "        channel.send({})\n",
              "        if (message.buffers) {\n",
              "          for (const buffer of message.buffers) {\n",
              "            buffers.push(buffer);\n",
              "            downloaded += buffer.byteLength;\n",
              "            progress.value = downloaded;\n",
              "          }\n",
              "        }\n",
              "      }\n",
              "      const blob = new Blob(buffers, {type: 'application/binary'});\n",
              "      const a = document.createElement('a');\n",
              "      a.href = window.URL.createObjectURL(blob);\n",
              "      a.download = filename;\n",
              "      div.appendChild(a);\n",
              "      a.click();\n",
              "      div.remove();\n",
              "    }\n",
              "  "
            ]
          },
          "metadata": {}
        },
        {
          "output_type": "display_data",
          "data": {
            "text/plain": [
              "<IPython.core.display.Javascript object>"
            ],
            "application/javascript": [
              "download(\"download_692ff0c3-b000-49c7-8626-72764af3bb89\", \"images_v3.zip\", 653213493)"
            ]
          },
          "metadata": {}
        }
      ]
    },
    {
      "cell_type": "code",
      "source": [
        "# 버전 1: .zip 압축 파일에서 압축 해제 후 메타 정보 매핑\n",
        "import pandas as pd\n",
        "import os\n",
        "from zipfile import ZipFile\n",
        "\n",
        "# 이미지 압축 해제 함수\n",
        "def extract_images(zip_path, extract_dir):\n",
        "    os.makedirs(extract_dir, exist_ok=True)\n",
        "    with ZipFile(zip_path, 'r') as zip_ref:\n",
        "        zip_ref.extractall(extract_dir)\n",
        "    return set(os.listdir(extract_dir))  # 이미지 파일명 리스트 반환\n",
        "\n",
        "# 메타 정보 CSV 로드 및 파일명 추출\n",
        "def load_meta(path):\n",
        "    df = pd.read_csv(path)\n",
        "    df['filename'] = df['image'].apply(lambda x: os.path.basename(str(x)))\n",
        "    return df\n",
        "\n",
        "# 매핑 수행\n",
        "def match_images(meta_df, image_filenames):\n",
        "    return meta_df[meta_df['filename'].isin(image_filenames)].copy()\n",
        "\n",
        "# 전체 파이프라인\n",
        "def generate_merged_datasets_with_extraction():\n",
        "    # 메타 정보 경로\n",
        "    meta_paths = {\n",
        "        'final1': '/content/processed_scin_final1.csv',\n",
        "        'final2': '/content/processed_scin_final2.csv'\n",
        "    }\n",
        "\n",
        "    # .zip 경로 및 압축 해제 위치\n",
        "    image_versions = {\n",
        "        'v1': ('/content/images_v1.zip', '/content/images_v1'),\n",
        "        'v2': ('/content/images_v2.zip', '/content/images_v2'),\n",
        "        'v3': ('/content/images_v3.zip', '/content/images_v3')\n",
        "    }\n",
        "\n",
        "    # 압축 해제 및 파일명 수집\n",
        "    extracted_files = {}\n",
        "    for version, (zip_path, folder_path) in image_versions.items():\n",
        "        print(f\"압축 해제 중: {zip_path}\")\n",
        "        extracted_files[version] = extract_images(zip_path, folder_path)\n",
        "\n",
        "    # 매핑 수행\n",
        "    for meta_key, meta_path in meta_paths.items():\n",
        "        print(f\"\\n메타 정보 로딩 중: {meta_path}\")\n",
        "        meta_df = load_meta(meta_path)\n",
        "\n",
        "        for version in image_versions:\n",
        "            print(f\"매핑 중... ({meta_key} + {version})\")\n",
        "            matched_df = match_images(meta_df, extracted_files[version])\n",
        "            output_path = f\"/content/merged_{meta_key}_{version}.csv\"\n",
        "            matched_df.to_csv(output_path, index=False)\n",
        "            print(f\"저장 완료: {output_path} ▶ 총 {len(matched_df)}개 샘플\")\n",
        "            print(\"메타 예시:\", meta_df['filename'].unique()[:5])\n",
        "            print(\"이미지 예시:\", list(extracted_files[version])[:5])\n",
        "\n",
        "# 실행\n",
        "generate_merged_datasets_with_extraction()\n"
      ],
      "metadata": {
        "id": "q-sPVrOOJCl8"
      },
      "execution_count": null,
      "outputs": []
    },
    {
      "cell_type": "code",
      "source": [
        "# 버전 2: 압축 해제된 images_v* 폴더에서 직접 매핑\n",
        "import pandas as pd\n",
        "import os\n",
        "\n",
        "# 메타 정보 CSV 로드 및 파일명 추출\n",
        "def load_meta(path):\n",
        "    df = pd.read_csv(path)\n",
        "    df['filename'] = df['image'].apply(lambda x: os.path.basename(str(x)))\n",
        "    return df\n",
        "\n",
        "# 매핑 수행\n",
        "def match_images(meta_df, image_filenames):\n",
        "    return meta_df[meta_df['filename'].isin(image_filenames)].copy()\n",
        "\n",
        "# 전체 파이프라인\n",
        "def generate_merged_datasets_from_existing_folders():\n",
        "    # 메타 정보 경로\n",
        "    meta_paths = {\n",
        "        'final1': '/content/processed_scin_final1.csv',\n",
        "        'final2': '/content/processed_scin_final2.csv'\n",
        "    }\n",
        "\n",
        "    # 전처리된 이미지 폴더 경로\n",
        "    image_dirs = {\n",
        "        'v1': '/content/images_v1',\n",
        "        'v2': '/content/images_v2',\n",
        "        'v3': '/content/images_v3'\n",
        "    }\n",
        "\n",
        "    # 파일명 수집\n",
        "    extracted_files = {}\n",
        "    for version, folder_path in image_dirs.items():\n",
        "        print(f\"이미지 목록 수집 중: {folder_path}\")\n",
        "        extracted_files[version] = set(os.listdir(folder_path))\n",
        "\n",
        "    # 매핑 수행\n",
        "    for meta_key, meta_path in meta_paths.items():\n",
        "        print(f\"\\n메타 정보 로딩 중: {meta_path}\")\n",
        "        meta_df = load_meta(meta_path)\n",
        "\n",
        "        for version in image_dirs:\n",
        "            print(f\"매핑 중... ({meta_key} + {version})\")\n",
        "            matched_df = match_images(meta_df, extracted_files[version])\n",
        "            output_path = f\"/content/merged_{meta_key}_{version}.csv\"\n",
        "            matched_df.to_csv(output_path, index=False)\n",
        "            print(f\"저장 완료: {output_path} ▶ 총 {len(matched_df)}개 샘플\")\n",
        "            print(\"메타 예시:\", meta_df['filename'].unique()[:5])\n",
        "            print(\"이미지 예시:\", list(extracted_files[version])[:5])\n",
        "\n",
        "# ▶ 실행\n",
        "generate_merged_datasets_from_existing_folders()\n"
      ],
      "metadata": {
        "colab": {
          "base_uri": "https://localhost:8080/"
        },
        "id": "OzKfEuQpjpdb",
        "outputId": "bac8d434-d7d4-456c-e7cb-e8ce8b59cefb"
      },
      "execution_count": null,
      "outputs": [
        {
          "output_type": "stream",
          "name": "stdout",
          "text": [
            "📁 이미지 목록 수집 중: /content/images_v1\n",
            "📁 이미지 목록 수집 중: /content/images_v2\n",
            "📁 이미지 목록 수집 중: /content/images_v3\n",
            "\n",
            "🧾 메타 정보 로딩 중: /content/processed_scin_final1.csv\n",
            "🔗 매핑 중... (final1 + v1)\n",
            "✅ 저장 완료: /content/merged_final1_v1.csv ▶ 총 6505개 샘플\n",
            "📄 메타 예시: ['-3205742176803893704.png' '-4762289084741430925.png'\n",
            " '-4027806997035329030.png' '-3799298995660217860.png'\n",
            " '-3575683440831198879.png']\n",
            "📁 이미지 예시: ['-4847644363405995542.png', '8549137165884551965.png', '6993102888764442433.png', '428271300965157171.png', '3721959455546931322.png']\n",
            "🔗 매핑 중... (final1 + v2)\n",
            "✅ 저장 완료: /content/merged_final1_v2.csv ▶ 총 6505개 샘플\n",
            "📄 메타 예시: ['-3205742176803893704.png' '-4762289084741430925.png'\n",
            " '-4027806997035329030.png' '-3799298995660217860.png'\n",
            " '-3575683440831198879.png']\n",
            "📁 이미지 예시: ['-4847644363405995542.png', '8549137165884551965.png', '6993102888764442433.png', '428271300965157171.png', '3721959455546931322.png']\n",
            "🔗 매핑 중... (final1 + v3)\n",
            "✅ 저장 완료: /content/merged_final1_v3.csv ▶ 총 6505개 샘플\n",
            "📄 메타 예시: ['-3205742176803893704.png' '-4762289084741430925.png'\n",
            " '-4027806997035329030.png' '-3799298995660217860.png'\n",
            " '-3575683440831198879.png']\n",
            "📁 이미지 예시: ['-4847644363405995542.png', '8549137165884551965.png', '6993102888764442433.png', '428271300965157171.png', '3721959455546931322.png']\n",
            "\n",
            "🧾 메타 정보 로딩 중: /content/processed_scin_final2.csv\n",
            "🔗 매핑 중... (final2 + v1)\n",
            "✅ 저장 완료: /content/merged_final2_v1.csv ▶ 총 5830개 샘플\n",
            "📄 메타 예시: ['-3205742176803893704.png' '-4762289084741430925.png'\n",
            " '-4027806997035329030.png' '-3575683440831198879.png'\n",
            " '-6942912841265248602.png']\n",
            "📁 이미지 예시: ['-4847644363405995542.png', '8549137165884551965.png', '6993102888764442433.png', '428271300965157171.png', '3721959455546931322.png']\n",
            "🔗 매핑 중... (final2 + v2)\n",
            "✅ 저장 완료: /content/merged_final2_v2.csv ▶ 총 5830개 샘플\n",
            "📄 메타 예시: ['-3205742176803893704.png' '-4762289084741430925.png'\n",
            " '-4027806997035329030.png' '-3575683440831198879.png'\n",
            " '-6942912841265248602.png']\n",
            "📁 이미지 예시: ['-4847644363405995542.png', '8549137165884551965.png', '6993102888764442433.png', '428271300965157171.png', '3721959455546931322.png']\n",
            "🔗 매핑 중... (final2 + v3)\n",
            "✅ 저장 완료: /content/merged_final2_v3.csv ▶ 총 5830개 샘플\n",
            "📄 메타 예시: ['-3205742176803893704.png' '-4762289084741430925.png'\n",
            " '-4027806997035329030.png' '-3575683440831198879.png'\n",
            " '-6942912841265248602.png']\n",
            "📁 이미지 예시: ['-4847644363405995542.png', '8549137165884551965.png', '6993102888764442433.png', '428271300965157171.png', '3721959455546931322.png']\n"
          ]
        }
      ]
    },
    {
      "cell_type": "code",
      "source": [
        "from google.colab import files\n",
        "import os\n",
        "\n",
        "# 다운로드 대상 파일 리스트\n",
        "merged_files = [\n",
        "    \"merged_final1_v1.csv\",\n",
        "    \"merged_final1_v2.csv\",\n",
        "    \"merged_final1_v3.csv\",\n",
        "    \"merged_final2_v1.csv\",\n",
        "    \"merged_final2_v2.csv\",\n",
        "    \"merged_final2_v3.csv\"\n",
        "]\n",
        "\n",
        "# 각 파일을 다운로드\n",
        "for filename in merged_files:\n",
        "    file_path = os.path.join(\"/content/\", filename)\n",
        "    if os.path.exists(file_path):\n",
        "        print(f\"다운로드 중: {filename}\")\n",
        "        files.download(file_path)\n",
        "    else:\n",
        "        print(f\"파일 없음: {filename}\")\n"
      ],
      "metadata": {
        "colab": {
          "base_uri": "https://localhost:8080/",
          "height": 121
        },
        "id": "mb7XKohu6YbO",
        "outputId": "cee3d158-6860-47cc-cc83-061f0a86c481"
      },
      "execution_count": null,
      "outputs": [
        {
          "output_type": "stream",
          "name": "stdout",
          "text": [
            "⬇️ 다운로드 중: merged_final1_v1.csv\n"
          ]
        },
        {
          "output_type": "display_data",
          "data": {
            "text/plain": [
              "<IPython.core.display.Javascript object>"
            ],
            "application/javascript": [
              "\n",
              "    async function download(id, filename, size) {\n",
              "      if (!google.colab.kernel.accessAllowed) {\n",
              "        return;\n",
              "      }\n",
              "      const div = document.createElement('div');\n",
              "      const label = document.createElement('label');\n",
              "      label.textContent = `Downloading \"${filename}\": `;\n",
              "      div.appendChild(label);\n",
              "      const progress = document.createElement('progress');\n",
              "      progress.max = size;\n",
              "      div.appendChild(progress);\n",
              "      document.body.appendChild(div);\n",
              "\n",
              "      const buffers = [];\n",
              "      let downloaded = 0;\n",
              "\n",
              "      const channel = await google.colab.kernel.comms.open(id);\n",
              "      // Send a message to notify the kernel that we're ready.\n",
              "      channel.send({})\n",
              "\n",
              "      for await (const message of channel.messages) {\n",
              "        // Send a message to notify the kernel that we're ready.\n",
              "        channel.send({})\n",
              "        if (message.buffers) {\n",
              "          for (const buffer of message.buffers) {\n",
              "            buffers.push(buffer);\n",
              "            downloaded += buffer.byteLength;\n",
              "            progress.value = downloaded;\n",
              "          }\n",
              "        }\n",
              "      }\n",
              "      const blob = new Blob(buffers, {type: 'application/binary'});\n",
              "      const a = document.createElement('a');\n",
              "      a.href = window.URL.createObjectURL(blob);\n",
              "      a.download = filename;\n",
              "      div.appendChild(a);\n",
              "      a.click();\n",
              "      div.remove();\n",
              "    }\n",
              "  "
            ]
          },
          "metadata": {}
        },
        {
          "output_type": "display_data",
          "data": {
            "text/plain": [
              "<IPython.core.display.Javascript object>"
            ],
            "application/javascript": [
              "download(\"download_3e0a06c1-ecf6-46ac-b98d-7a6a94f4ac4b\", \"merged_final1_v1.csv\", 5139777)"
            ]
          },
          "metadata": {}
        },
        {
          "output_type": "stream",
          "name": "stdout",
          "text": [
            "⬇️ 다운로드 중: merged_final1_v2.csv\n"
          ]
        },
        {
          "output_type": "display_data",
          "data": {
            "text/plain": [
              "<IPython.core.display.Javascript object>"
            ],
            "application/javascript": [
              "\n",
              "    async function download(id, filename, size) {\n",
              "      if (!google.colab.kernel.accessAllowed) {\n",
              "        return;\n",
              "      }\n",
              "      const div = document.createElement('div');\n",
              "      const label = document.createElement('label');\n",
              "      label.textContent = `Downloading \"${filename}\": `;\n",
              "      div.appendChild(label);\n",
              "      const progress = document.createElement('progress');\n",
              "      progress.max = size;\n",
              "      div.appendChild(progress);\n",
              "      document.body.appendChild(div);\n",
              "\n",
              "      const buffers = [];\n",
              "      let downloaded = 0;\n",
              "\n",
              "      const channel = await google.colab.kernel.comms.open(id);\n",
              "      // Send a message to notify the kernel that we're ready.\n",
              "      channel.send({})\n",
              "\n",
              "      for await (const message of channel.messages) {\n",
              "        // Send a message to notify the kernel that we're ready.\n",
              "        channel.send({})\n",
              "        if (message.buffers) {\n",
              "          for (const buffer of message.buffers) {\n",
              "            buffers.push(buffer);\n",
              "            downloaded += buffer.byteLength;\n",
              "            progress.value = downloaded;\n",
              "          }\n",
              "        }\n",
              "      }\n",
              "      const blob = new Blob(buffers, {type: 'application/binary'});\n",
              "      const a = document.createElement('a');\n",
              "      a.href = window.URL.createObjectURL(blob);\n",
              "      a.download = filename;\n",
              "      div.appendChild(a);\n",
              "      a.click();\n",
              "      div.remove();\n",
              "    }\n",
              "  "
            ]
          },
          "metadata": {}
        },
        {
          "output_type": "display_data",
          "data": {
            "text/plain": [
              "<IPython.core.display.Javascript object>"
            ],
            "application/javascript": [
              "download(\"download_c0f1cdc7-a966-4a1f-9dec-3945321871d9\", \"merged_final1_v2.csv\", 5139777)"
            ]
          },
          "metadata": {}
        },
        {
          "output_type": "stream",
          "name": "stdout",
          "text": [
            "⬇️ 다운로드 중: merged_final1_v3.csv\n"
          ]
        },
        {
          "output_type": "display_data",
          "data": {
            "text/plain": [
              "<IPython.core.display.Javascript object>"
            ],
            "application/javascript": [
              "\n",
              "    async function download(id, filename, size) {\n",
              "      if (!google.colab.kernel.accessAllowed) {\n",
              "        return;\n",
              "      }\n",
              "      const div = document.createElement('div');\n",
              "      const label = document.createElement('label');\n",
              "      label.textContent = `Downloading \"${filename}\": `;\n",
              "      div.appendChild(label);\n",
              "      const progress = document.createElement('progress');\n",
              "      progress.max = size;\n",
              "      div.appendChild(progress);\n",
              "      document.body.appendChild(div);\n",
              "\n",
              "      const buffers = [];\n",
              "      let downloaded = 0;\n",
              "\n",
              "      const channel = await google.colab.kernel.comms.open(id);\n",
              "      // Send a message to notify the kernel that we're ready.\n",
              "      channel.send({})\n",
              "\n",
              "      for await (const message of channel.messages) {\n",
              "        // Send a message to notify the kernel that we're ready.\n",
              "        channel.send({})\n",
              "        if (message.buffers) {\n",
              "          for (const buffer of message.buffers) {\n",
              "            buffers.push(buffer);\n",
              "            downloaded += buffer.byteLength;\n",
              "            progress.value = downloaded;\n",
              "          }\n",
              "        }\n",
              "      }\n",
              "      const blob = new Blob(buffers, {type: 'application/binary'});\n",
              "      const a = document.createElement('a');\n",
              "      a.href = window.URL.createObjectURL(blob);\n",
              "      a.download = filename;\n",
              "      div.appendChild(a);\n",
              "      a.click();\n",
              "      div.remove();\n",
              "    }\n",
              "  "
            ]
          },
          "metadata": {}
        },
        {
          "output_type": "display_data",
          "data": {
            "text/plain": [
              "<IPython.core.display.Javascript object>"
            ],
            "application/javascript": [
              "download(\"download_85a3e317-ca86-40ba-ac5c-d4b57b2ce66a\", \"merged_final1_v3.csv\", 5139777)"
            ]
          },
          "metadata": {}
        },
        {
          "output_type": "stream",
          "name": "stdout",
          "text": [
            "⬇️ 다운로드 중: merged_final2_v1.csv\n"
          ]
        },
        {
          "output_type": "display_data",
          "data": {
            "text/plain": [
              "<IPython.core.display.Javascript object>"
            ],
            "application/javascript": [
              "\n",
              "    async function download(id, filename, size) {\n",
              "      if (!google.colab.kernel.accessAllowed) {\n",
              "        return;\n",
              "      }\n",
              "      const div = document.createElement('div');\n",
              "      const label = document.createElement('label');\n",
              "      label.textContent = `Downloading \"${filename}\": `;\n",
              "      div.appendChild(label);\n",
              "      const progress = document.createElement('progress');\n",
              "      progress.max = size;\n",
              "      div.appendChild(progress);\n",
              "      document.body.appendChild(div);\n",
              "\n",
              "      const buffers = [];\n",
              "      let downloaded = 0;\n",
              "\n",
              "      const channel = await google.colab.kernel.comms.open(id);\n",
              "      // Send a message to notify the kernel that we're ready.\n",
              "      channel.send({})\n",
              "\n",
              "      for await (const message of channel.messages) {\n",
              "        // Send a message to notify the kernel that we're ready.\n",
              "        channel.send({})\n",
              "        if (message.buffers) {\n",
              "          for (const buffer of message.buffers) {\n",
              "            buffers.push(buffer);\n",
              "            downloaded += buffer.byteLength;\n",
              "            progress.value = downloaded;\n",
              "          }\n",
              "        }\n",
              "      }\n",
              "      const blob = new Blob(buffers, {type: 'application/binary'});\n",
              "      const a = document.createElement('a');\n",
              "      a.href = window.URL.createObjectURL(blob);\n",
              "      a.download = filename;\n",
              "      div.appendChild(a);\n",
              "      a.click();\n",
              "      div.remove();\n",
              "    }\n",
              "  "
            ]
          },
          "metadata": {}
        },
        {
          "output_type": "display_data",
          "data": {
            "text/plain": [
              "<IPython.core.display.Javascript object>"
            ],
            "application/javascript": [
              "download(\"download_aa2f5891-fba2-4273-9e92-a5a99d6e30e9\", \"merged_final2_v1.csv\", 2316240)"
            ]
          },
          "metadata": {}
        },
        {
          "output_type": "stream",
          "name": "stdout",
          "text": [
            "⬇️ 다운로드 중: merged_final2_v2.csv\n"
          ]
        },
        {
          "output_type": "display_data",
          "data": {
            "text/plain": [
              "<IPython.core.display.Javascript object>"
            ],
            "application/javascript": [
              "\n",
              "    async function download(id, filename, size) {\n",
              "      if (!google.colab.kernel.accessAllowed) {\n",
              "        return;\n",
              "      }\n",
              "      const div = document.createElement('div');\n",
              "      const label = document.createElement('label');\n",
              "      label.textContent = `Downloading \"${filename}\": `;\n",
              "      div.appendChild(label);\n",
              "      const progress = document.createElement('progress');\n",
              "      progress.max = size;\n",
              "      div.appendChild(progress);\n",
              "      document.body.appendChild(div);\n",
              "\n",
              "      const buffers = [];\n",
              "      let downloaded = 0;\n",
              "\n",
              "      const channel = await google.colab.kernel.comms.open(id);\n",
              "      // Send a message to notify the kernel that we're ready.\n",
              "      channel.send({})\n",
              "\n",
              "      for await (const message of channel.messages) {\n",
              "        // Send a message to notify the kernel that we're ready.\n",
              "        channel.send({})\n",
              "        if (message.buffers) {\n",
              "          for (const buffer of message.buffers) {\n",
              "            buffers.push(buffer);\n",
              "            downloaded += buffer.byteLength;\n",
              "            progress.value = downloaded;\n",
              "          }\n",
              "        }\n",
              "      }\n",
              "      const blob = new Blob(buffers, {type: 'application/binary'});\n",
              "      const a = document.createElement('a');\n",
              "      a.href = window.URL.createObjectURL(blob);\n",
              "      a.download = filename;\n",
              "      div.appendChild(a);\n",
              "      a.click();\n",
              "      div.remove();\n",
              "    }\n",
              "  "
            ]
          },
          "metadata": {}
        },
        {
          "output_type": "display_data",
          "data": {
            "text/plain": [
              "<IPython.core.display.Javascript object>"
            ],
            "application/javascript": [
              "download(\"download_d117a549-ec1d-4402-ac42-56e18251e914\", \"merged_final2_v2.csv\", 2316240)"
            ]
          },
          "metadata": {}
        },
        {
          "output_type": "stream",
          "name": "stdout",
          "text": [
            "⬇️ 다운로드 중: merged_final2_v3.csv\n"
          ]
        },
        {
          "output_type": "display_data",
          "data": {
            "text/plain": [
              "<IPython.core.display.Javascript object>"
            ],
            "application/javascript": [
              "\n",
              "    async function download(id, filename, size) {\n",
              "      if (!google.colab.kernel.accessAllowed) {\n",
              "        return;\n",
              "      }\n",
              "      const div = document.createElement('div');\n",
              "      const label = document.createElement('label');\n",
              "      label.textContent = `Downloading \"${filename}\": `;\n",
              "      div.appendChild(label);\n",
              "      const progress = document.createElement('progress');\n",
              "      progress.max = size;\n",
              "      div.appendChild(progress);\n",
              "      document.body.appendChild(div);\n",
              "\n",
              "      const buffers = [];\n",
              "      let downloaded = 0;\n",
              "\n",
              "      const channel = await google.colab.kernel.comms.open(id);\n",
              "      // Send a message to notify the kernel that we're ready.\n",
              "      channel.send({})\n",
              "\n",
              "      for await (const message of channel.messages) {\n",
              "        // Send a message to notify the kernel that we're ready.\n",
              "        channel.send({})\n",
              "        if (message.buffers) {\n",
              "          for (const buffer of message.buffers) {\n",
              "            buffers.push(buffer);\n",
              "            downloaded += buffer.byteLength;\n",
              "            progress.value = downloaded;\n",
              "          }\n",
              "        }\n",
              "      }\n",
              "      const blob = new Blob(buffers, {type: 'application/binary'});\n",
              "      const a = document.createElement('a');\n",
              "      a.href = window.URL.createObjectURL(blob);\n",
              "      a.download = filename;\n",
              "      div.appendChild(a);\n",
              "      a.click();\n",
              "      div.remove();\n",
              "    }\n",
              "  "
            ]
          },
          "metadata": {}
        },
        {
          "output_type": "display_data",
          "data": {
            "text/plain": [
              "<IPython.core.display.Javascript object>"
            ],
            "application/javascript": [
              "download(\"download_14b037fd-1f7d-400b-9987-d99d0247e3b7\", \"merged_final2_v3.csv\", 2316240)"
            ]
          },
          "metadata": {}
        }
      ]
    },
    {
      "cell_type": "code",
      "source": [
        "import os\n",
        "import pandas as pd\n",
        "\n",
        "# 검증 대상 파일과 디렉터리 정보 정의\n",
        "merged_files = [\n",
        "    (\"merged_final1_v1.csv\", \"images_v1\"),\n",
        "    (\"merged_final1_v2.csv\", \"images_v2\"),\n",
        "    (\"merged_final1_v3.csv\", \"images_v3\"),\n",
        "    (\"merged_final2_v1.csv\", \"images_v1\"),\n",
        "    (\"merged_final2_v2.csv\", \"images_v2\"),\n",
        "    (\"merged_final2_v3.csv\", \"images_v3\")\n",
        "]\n",
        "\n",
        "base_path = \"/content/\"          # merged_*.csv가 있는 경로\n",
        "image_base_path = \"/content\"              # images_v* 폴더가 있는 경로\n",
        "\n",
        "def validate_mapping(csv_file, image_folder):\n",
        "    print(f\"\\n검증 시작: {csv_file} vs {image_folder}\")\n",
        "\n",
        "    # 경로 설정\n",
        "    csv_path = os.path.join(base_path, csv_file)\n",
        "    img_dir = os.path.join(image_base_path, image_folder)\n",
        "\n",
        "    # 파일 존재 확인\n",
        "    if not os.path.exists(csv_path):\n",
        "        print(f\"CSV 파일이 존재하지 않습니다: {csv_path}\")\n",
        "        return\n",
        "    if not os.path.exists(img_dir):\n",
        "        print(f\"이미지 폴더가 존재하지 않습니다: {img_dir}\")\n",
        "        return\n",
        "\n",
        "    # 파일 로드\n",
        "    df = pd.read_csv(csv_path)\n",
        "    if 'filename' not in df.columns:\n",
        "        print(f\"CSV에 'filename' 컬럼이 없습니다: {csv_file}\")\n",
        "        return\n",
        "\n",
        "    df_filenames = set(df['filename'])\n",
        "    image_files = set(os.listdir(img_dir))\n",
        "\n",
        "    # 비교\n",
        "    missing_images = df_filenames - image_files\n",
        "    extra_images = image_files - df_filenames\n",
        "    matched_count = len(df_filenames & image_files)\n",
        "\n",
        "    # 결과 출력\n",
        "    print(f\"매핑된 파일 수: {matched_count} / {len(df)}\")\n",
        "    print(f\"누락된 이미지 수 (CSV에는 있지만 폴더에 없음): {len(missing_images)}\")\n",
        "    if missing_images:\n",
        "        print(\"예시 누락 파일:\", list(missing_images)[:3])\n",
        "\n",
        "    print(f\"초과 이미지 수 (폴더에 있지만 CSV에 없음): {len(extra_images)}\")\n",
        "    if extra_images:\n",
        "        print(\"예시 초과 파일:\", list(extra_images)[:3])\n",
        "\n",
        "# 전체 검증 반복\n",
        "for csv_file, image_folder in merged_files:\n",
        "    validate_mapping(csv_file, image_folder)\n"
      ],
      "metadata": {
        "colab": {
          "base_uri": "https://localhost:8080/"
        },
        "id": "BwIuLdzaEwf7",
        "outputId": "0465d3ec-e657-4b41-b0bb-fd7e2e8cf5f7"
      },
      "execution_count": null,
      "outputs": [
        {
          "output_type": "stream",
          "name": "stdout",
          "text": [
            "\n",
            "🔍 검증 시작: merged_final1_v1.csv vs images_v1\n",
            "✅ 매핑된 파일 수: 6505 / 6505\n",
            "❗ 누락된 이미지 수 (CSV에는 있지만 폴더에 없음): 0\n",
            "⚠️ 초과 이미지 수 (폴더에 있지만 CSV에 없음): 3874\n",
            "   예시 초과 파일: ['3721959455546931322.png', '812201348962502129.png', '-469937817750198048.png']\n",
            "\n",
            "🔍 검증 시작: merged_final1_v2.csv vs images_v2\n",
            "✅ 매핑된 파일 수: 6505 / 6505\n",
            "❗ 누락된 이미지 수 (CSV에는 있지만 폴더에 없음): 0\n",
            "⚠️ 초과 이미지 수 (폴더에 있지만 CSV에 없음): 3874\n",
            "   예시 초과 파일: ['3721959455546931322.png', '812201348962502129.png', '-469937817750198048.png']\n",
            "\n",
            "🔍 검증 시작: merged_final1_v3.csv vs images_v3\n",
            "✅ 매핑된 파일 수: 6505 / 6505\n",
            "❗ 누락된 이미지 수 (CSV에는 있지만 폴더에 없음): 0\n",
            "⚠️ 초과 이미지 수 (폴더에 있지만 CSV에 없음): 3874\n",
            "   예시 초과 파일: ['3721959455546931322.png', '812201348962502129.png', '-469937817750198048.png']\n",
            "\n",
            "🔍 검증 시작: merged_final2_v1.csv vs images_v1\n",
            "✅ 매핑된 파일 수: 5830 / 5830\n",
            "❗ 누락된 이미지 수 (CSV에는 있지만 폴더에 없음): 0\n",
            "⚠️ 초과 이미지 수 (폴더에 있지만 CSV에 없음): 4549\n",
            "   예시 초과 파일: ['-8311841729993892354.png', '-4847644363405995542.png', '6993102888764442433.png']\n",
            "\n",
            "🔍 검증 시작: merged_final2_v2.csv vs images_v2\n",
            "✅ 매핑된 파일 수: 5830 / 5830\n",
            "❗ 누락된 이미지 수 (CSV에는 있지만 폴더에 없음): 0\n",
            "⚠️ 초과 이미지 수 (폴더에 있지만 CSV에 없음): 4549\n",
            "   예시 초과 파일: ['-8311841729993892354.png', '-4847644363405995542.png', '6993102888764442433.png']\n",
            "\n",
            "🔍 검증 시작: merged_final2_v3.csv vs images_v3\n",
            "✅ 매핑된 파일 수: 5830 / 5830\n",
            "❗ 누락된 이미지 수 (CSV에는 있지만 폴더에 없음): 0\n",
            "⚠️ 초과 이미지 수 (폴더에 있지만 CSV에 없음): 4549\n",
            "   예시 초과 파일: ['-8311841729993892354.png', '-4847644363405995542.png', '6993102888764442433.png']\n"
          ]
        }
      ]
    },
    {
      "cell_type": "code",
      "source": [
        "import os\n",
        "import pandas as pd\n",
        "import shutil\n",
        "from zipfile import ZipFile\n",
        "\n",
        "# 매핑된 CSV와 이미지 폴더 매칭 목록\n",
        "tasks = [\n",
        "    (\"merged_final1_v1.csv\", \"images_v1\"),\n",
        "    (\"merged_final1_v2.csv\", \"images_v2\"),\n",
        "    (\"merged_final1_v3.csv\", \"images_v3\"),\n",
        "    (\"merged_final2_v1.csv\", \"images_v1\"),\n",
        "    (\"merged_final2_v2.csv\", \"images_v2\"),\n",
        "    (\"merged_final2_v3.csv\", \"images_v3\"),\n",
        "]\n",
        "\n",
        "base_path = \"/content\"\n",
        "output_zip_paths = []\n",
        "\n",
        "for csv_file, image_folder in tasks:\n",
        "    print(f\"\\n▶ 처리 중: {csv_file} 와 {image_folder}\")\n",
        "\n",
        "    # 경로 설정\n",
        "    csv_path = os.path.join(base_path, csv_file)\n",
        "    image_dir = os.path.join(base_path, image_folder)\n",
        "    copy_dir = os.path.join(base_path, f\"matched_{csv_file.replace('.csv', '')}\")\n",
        "\n",
        "    # CSV 로드 및 이미지 파일명 수집\n",
        "    df = pd.read_csv(csv_path)\n",
        "    if 'filename' not in df.columns:\n",
        "        print(f\"'filename' 컬럼이 없습니다: {csv_file}\")\n",
        "        continue\n",
        "    filenames = df['filename'].dropna().unique().tolist()\n",
        "\n",
        "    # 복사 대상 폴더 생성\n",
        "    os.makedirs(copy_dir, exist_ok=True)\n",
        "\n",
        "    # 이미지 복사\n",
        "    copied = 0\n",
        "    for filename in filenames:\n",
        "        src_path = os.path.join(image_dir, filename)\n",
        "        dst_path = os.path.join(copy_dir, filename)\n",
        "        if os.path.exists(src_path):\n",
        "            shutil.copy2(src_path, dst_path)\n",
        "            copied += 1\n",
        "        else:\n",
        "            print(f\"파일 없음: {filename}\")\n",
        "\n",
        "    print(f\"복사 완료: {copied}개 파일 → {copy_dir}\")\n",
        "\n",
        "    # zip 압축\n",
        "    zip_path = f\"{copy_dir}.zip\"\n",
        "    shutil.make_archive(base_name=copy_dir, format='zip', root_dir=copy_dir)\n",
        "    output_zip_paths.append(zip_path)\n",
        "    print(f\"압축 완료: {zip_path}\")\n"
      ],
      "metadata": {
        "id": "-sW_rKb4HweB",
        "colab": {
          "base_uri": "https://localhost:8080/"
        },
        "outputId": "515e42ef-282a-44d9-aedc-16e83b19e143"
      },
      "execution_count": 7,
      "outputs": [
        {
          "output_type": "stream",
          "name": "stdout",
          "text": [
            "\n",
            "▶ 처리 중: merged_final1_v1.csv 와 images_v1\n",
            "복사 완료: 6505개 파일 → /content/matched_merged_final1_v1\n",
            "압축 완료: /content/matched_merged_final1_v1.zip\n",
            "\n",
            "▶ 처리 중: merged_final1_v2.csv 와 images_v2\n",
            "복사 완료: 6505개 파일 → /content/matched_merged_final1_v2\n",
            "압축 완료: /content/matched_merged_final1_v2.zip\n",
            "\n",
            "▶ 처리 중: merged_final1_v3.csv 와 images_v3\n",
            "복사 완료: 6505개 파일 → /content/matched_merged_final1_v3\n",
            "압축 완료: /content/matched_merged_final1_v3.zip\n",
            "\n",
            "▶ 처리 중: merged_final2_v1.csv 와 images_v1\n",
            "복사 완료: 5830개 파일 → /content/matched_merged_final2_v1\n",
            "압축 완료: /content/matched_merged_final2_v1.zip\n",
            "\n",
            "▶ 처리 중: merged_final2_v2.csv 와 images_v2\n",
            "복사 완료: 5830개 파일 → /content/matched_merged_final2_v2\n",
            "압축 완료: /content/matched_merged_final2_v2.zip\n",
            "\n",
            "▶ 처리 중: merged_final2_v3.csv 와 images_v3\n",
            "복사 완료: 5830개 파일 → /content/matched_merged_final2_v3\n",
            "압축 완료: /content/matched_merged_final2_v3.zip\n"
          ]
        }
      ]
    },
    {
      "cell_type": "code",
      "source": [
        "from google.colab import files\n",
        "import os\n",
        "\n",
        "# 다운로드할 파일 목록\n",
        "zip_files = [\n",
        "    \"matched_merged_final1_v1.zip\",\n",
        "    \"matched_merged_final1_v2.zip\",\n",
        "    \"matched_merged_final1_v3.zip\",\n",
        "    \"matched_merged_final2_v1.zip\",\n",
        "    \"matched_merged_final2_v2.zip\",\n",
        "    \"matched_merged_final2_v3.zip\"\n",
        "]\n",
        "\n",
        "# 다운로드 실행\n",
        "for zip_file in zip_files:\n",
        "    file_path = os.path.join(\"/content\", zip_file)\n",
        "    if os.path.exists(file_path):\n",
        "        files.download(file_path)\n",
        "    else:\n",
        "        print(f\"파일 없음: {zip_file}\")\n"
      ],
      "metadata": {
        "colab": {
          "base_uri": "https://localhost:8080/",
          "height": 17
        },
        "id": "xTWU-PtNhjJx",
        "outputId": "30c1fd13-0ab6-4933-821c-9c709aadfd6f"
      },
      "execution_count": 8,
      "outputs": [
        {
          "output_type": "display_data",
          "data": {
            "text/plain": [
              "<IPython.core.display.Javascript object>"
            ],
            "application/javascript": [
              "\n",
              "    async function download(id, filename, size) {\n",
              "      if (!google.colab.kernel.accessAllowed) {\n",
              "        return;\n",
              "      }\n",
              "      const div = document.createElement('div');\n",
              "      const label = document.createElement('label');\n",
              "      label.textContent = `Downloading \"${filename}\": `;\n",
              "      div.appendChild(label);\n",
              "      const progress = document.createElement('progress');\n",
              "      progress.max = size;\n",
              "      div.appendChild(progress);\n",
              "      document.body.appendChild(div);\n",
              "\n",
              "      const buffers = [];\n",
              "      let downloaded = 0;\n",
              "\n",
              "      const channel = await google.colab.kernel.comms.open(id);\n",
              "      // Send a message to notify the kernel that we're ready.\n",
              "      channel.send({})\n",
              "\n",
              "      for await (const message of channel.messages) {\n",
              "        // Send a message to notify the kernel that we're ready.\n",
              "        channel.send({})\n",
              "        if (message.buffers) {\n",
              "          for (const buffer of message.buffers) {\n",
              "            buffers.push(buffer);\n",
              "            downloaded += buffer.byteLength;\n",
              "            progress.value = downloaded;\n",
              "          }\n",
              "        }\n",
              "      }\n",
              "      const blob = new Blob(buffers, {type: 'application/binary'});\n",
              "      const a = document.createElement('a');\n",
              "      a.href = window.URL.createObjectURL(blob);\n",
              "      a.download = filename;\n",
              "      div.appendChild(a);\n",
              "      a.click();\n",
              "      div.remove();\n",
              "    }\n",
              "  "
            ]
          },
          "metadata": {}
        },
        {
          "output_type": "display_data",
          "data": {
            "text/plain": [
              "<IPython.core.display.Javascript object>"
            ],
            "application/javascript": [
              "download(\"download_7ba79cdd-5186-4d9e-9d6b-58328b9d14c8\", \"matched_merged_final1_v1.zip\", 444834646)"
            ]
          },
          "metadata": {}
        },
        {
          "output_type": "display_data",
          "data": {
            "text/plain": [
              "<IPython.core.display.Javascript object>"
            ],
            "application/javascript": [
              "\n",
              "    async function download(id, filename, size) {\n",
              "      if (!google.colab.kernel.accessAllowed) {\n",
              "        return;\n",
              "      }\n",
              "      const div = document.createElement('div');\n",
              "      const label = document.createElement('label');\n",
              "      label.textContent = `Downloading \"${filename}\": `;\n",
              "      div.appendChild(label);\n",
              "      const progress = document.createElement('progress');\n",
              "      progress.max = size;\n",
              "      div.appendChild(progress);\n",
              "      document.body.appendChild(div);\n",
              "\n",
              "      const buffers = [];\n",
              "      let downloaded = 0;\n",
              "\n",
              "      const channel = await google.colab.kernel.comms.open(id);\n",
              "      // Send a message to notify the kernel that we're ready.\n",
              "      channel.send({})\n",
              "\n",
              "      for await (const message of channel.messages) {\n",
              "        // Send a message to notify the kernel that we're ready.\n",
              "        channel.send({})\n",
              "        if (message.buffers) {\n",
              "          for (const buffer of message.buffers) {\n",
              "            buffers.push(buffer);\n",
              "            downloaded += buffer.byteLength;\n",
              "            progress.value = downloaded;\n",
              "          }\n",
              "        }\n",
              "      }\n",
              "      const blob = new Blob(buffers, {type: 'application/binary'});\n",
              "      const a = document.createElement('a');\n",
              "      a.href = window.URL.createObjectURL(blob);\n",
              "      a.download = filename;\n",
              "      div.appendChild(a);\n",
              "      a.click();\n",
              "      div.remove();\n",
              "    }\n",
              "  "
            ]
          },
          "metadata": {}
        },
        {
          "output_type": "display_data",
          "data": {
            "text/plain": [
              "<IPython.core.display.Javascript object>"
            ],
            "application/javascript": [
              "download(\"download_b26942e7-eedb-4031-93b8-c48b93fafed9\", \"matched_merged_final1_v2.zip\", 438819838)"
            ]
          },
          "metadata": {}
        },
        {
          "output_type": "display_data",
          "data": {
            "text/plain": [
              "<IPython.core.display.Javascript object>"
            ],
            "application/javascript": [
              "\n",
              "    async function download(id, filename, size) {\n",
              "      if (!google.colab.kernel.accessAllowed) {\n",
              "        return;\n",
              "      }\n",
              "      const div = document.createElement('div');\n",
              "      const label = document.createElement('label');\n",
              "      label.textContent = `Downloading \"${filename}\": `;\n",
              "      div.appendChild(label);\n",
              "      const progress = document.createElement('progress');\n",
              "      progress.max = size;\n",
              "      div.appendChild(progress);\n",
              "      document.body.appendChild(div);\n",
              "\n",
              "      const buffers = [];\n",
              "      let downloaded = 0;\n",
              "\n",
              "      const channel = await google.colab.kernel.comms.open(id);\n",
              "      // Send a message to notify the kernel that we're ready.\n",
              "      channel.send({})\n",
              "\n",
              "      for await (const message of channel.messages) {\n",
              "        // Send a message to notify the kernel that we're ready.\n",
              "        channel.send({})\n",
              "        if (message.buffers) {\n",
              "          for (const buffer of message.buffers) {\n",
              "            buffers.push(buffer);\n",
              "            downloaded += buffer.byteLength;\n",
              "            progress.value = downloaded;\n",
              "          }\n",
              "        }\n",
              "      }\n",
              "      const blob = new Blob(buffers, {type: 'application/binary'});\n",
              "      const a = document.createElement('a');\n",
              "      a.href = window.URL.createObjectURL(blob);\n",
              "      a.download = filename;\n",
              "      div.appendChild(a);\n",
              "      a.click();\n",
              "      div.remove();\n",
              "    }\n",
              "  "
            ]
          },
          "metadata": {}
        },
        {
          "output_type": "display_data",
          "data": {
            "text/plain": [
              "<IPython.core.display.Javascript object>"
            ],
            "application/javascript": [
              "download(\"download_3d1fb19f-d3ac-47ea-8a2e-f7ca8b6ddb26\", \"matched_merged_final1_v3.zip\", 415947081)"
            ]
          },
          "metadata": {}
        },
        {
          "output_type": "display_data",
          "data": {
            "text/plain": [
              "<IPython.core.display.Javascript object>"
            ],
            "application/javascript": [
              "\n",
              "    async function download(id, filename, size) {\n",
              "      if (!google.colab.kernel.accessAllowed) {\n",
              "        return;\n",
              "      }\n",
              "      const div = document.createElement('div');\n",
              "      const label = document.createElement('label');\n",
              "      label.textContent = `Downloading \"${filename}\": `;\n",
              "      div.appendChild(label);\n",
              "      const progress = document.createElement('progress');\n",
              "      progress.max = size;\n",
              "      div.appendChild(progress);\n",
              "      document.body.appendChild(div);\n",
              "\n",
              "      const buffers = [];\n",
              "      let downloaded = 0;\n",
              "\n",
              "      const channel = await google.colab.kernel.comms.open(id);\n",
              "      // Send a message to notify the kernel that we're ready.\n",
              "      channel.send({})\n",
              "\n",
              "      for await (const message of channel.messages) {\n",
              "        // Send a message to notify the kernel that we're ready.\n",
              "        channel.send({})\n",
              "        if (message.buffers) {\n",
              "          for (const buffer of message.buffers) {\n",
              "            buffers.push(buffer);\n",
              "            downloaded += buffer.byteLength;\n",
              "            progress.value = downloaded;\n",
              "          }\n",
              "        }\n",
              "      }\n",
              "      const blob = new Blob(buffers, {type: 'application/binary'});\n",
              "      const a = document.createElement('a');\n",
              "      a.href = window.URL.createObjectURL(blob);\n",
              "      a.download = filename;\n",
              "      div.appendChild(a);\n",
              "      a.click();\n",
              "      div.remove();\n",
              "    }\n",
              "  "
            ]
          },
          "metadata": {}
        },
        {
          "output_type": "display_data",
          "data": {
            "text/plain": [
              "<IPython.core.display.Javascript object>"
            ],
            "application/javascript": [
              "download(\"download_12511a16-30cf-4257-9262-1dc9068de390\", \"matched_merged_final2_v1.zip\", 398255229)"
            ]
          },
          "metadata": {}
        },
        {
          "output_type": "display_data",
          "data": {
            "text/plain": [
              "<IPython.core.display.Javascript object>"
            ],
            "application/javascript": [
              "\n",
              "    async function download(id, filename, size) {\n",
              "      if (!google.colab.kernel.accessAllowed) {\n",
              "        return;\n",
              "      }\n",
              "      const div = document.createElement('div');\n",
              "      const label = document.createElement('label');\n",
              "      label.textContent = `Downloading \"${filename}\": `;\n",
              "      div.appendChild(label);\n",
              "      const progress = document.createElement('progress');\n",
              "      progress.max = size;\n",
              "      div.appendChild(progress);\n",
              "      document.body.appendChild(div);\n",
              "\n",
              "      const buffers = [];\n",
              "      let downloaded = 0;\n",
              "\n",
              "      const channel = await google.colab.kernel.comms.open(id);\n",
              "      // Send a message to notify the kernel that we're ready.\n",
              "      channel.send({})\n",
              "\n",
              "      for await (const message of channel.messages) {\n",
              "        // Send a message to notify the kernel that we're ready.\n",
              "        channel.send({})\n",
              "        if (message.buffers) {\n",
              "          for (const buffer of message.buffers) {\n",
              "            buffers.push(buffer);\n",
              "            downloaded += buffer.byteLength;\n",
              "            progress.value = downloaded;\n",
              "          }\n",
              "        }\n",
              "      }\n",
              "      const blob = new Blob(buffers, {type: 'application/binary'});\n",
              "      const a = document.createElement('a');\n",
              "      a.href = window.URL.createObjectURL(blob);\n",
              "      a.download = filename;\n",
              "      div.appendChild(a);\n",
              "      a.click();\n",
              "      div.remove();\n",
              "    }\n",
              "  "
            ]
          },
          "metadata": {}
        },
        {
          "output_type": "display_data",
          "data": {
            "text/plain": [
              "<IPython.core.display.Javascript object>"
            ],
            "application/javascript": [
              "download(\"download_88ffc99d-e879-4a68-af56-f76c58923151\", \"matched_merged_final2_v2.zip\", 392836178)"
            ]
          },
          "metadata": {}
        },
        {
          "output_type": "display_data",
          "data": {
            "text/plain": [
              "<IPython.core.display.Javascript object>"
            ],
            "application/javascript": [
              "\n",
              "    async function download(id, filename, size) {\n",
              "      if (!google.colab.kernel.accessAllowed) {\n",
              "        return;\n",
              "      }\n",
              "      const div = document.createElement('div');\n",
              "      const label = document.createElement('label');\n",
              "      label.textContent = `Downloading \"${filename}\": `;\n",
              "      div.appendChild(label);\n",
              "      const progress = document.createElement('progress');\n",
              "      progress.max = size;\n",
              "      div.appendChild(progress);\n",
              "      document.body.appendChild(div);\n",
              "\n",
              "      const buffers = [];\n",
              "      let downloaded = 0;\n",
              "\n",
              "      const channel = await google.colab.kernel.comms.open(id);\n",
              "      // Send a message to notify the kernel that we're ready.\n",
              "      channel.send({})\n",
              "\n",
              "      for await (const message of channel.messages) {\n",
              "        // Send a message to notify the kernel that we're ready.\n",
              "        channel.send({})\n",
              "        if (message.buffers) {\n",
              "          for (const buffer of message.buffers) {\n",
              "            buffers.push(buffer);\n",
              "            downloaded += buffer.byteLength;\n",
              "            progress.value = downloaded;\n",
              "          }\n",
              "        }\n",
              "      }\n",
              "      const blob = new Blob(buffers, {type: 'application/binary'});\n",
              "      const a = document.createElement('a');\n",
              "      a.href = window.URL.createObjectURL(blob);\n",
              "      a.download = filename;\n",
              "      div.appendChild(a);\n",
              "      a.click();\n",
              "      div.remove();\n",
              "    }\n",
              "  "
            ]
          },
          "metadata": {}
        },
        {
          "output_type": "display_data",
          "data": {
            "text/plain": [
              "<IPython.core.display.Javascript object>"
            ],
            "application/javascript": [
              "download(\"download_59a6f735-25fc-4156-b484-1f07926b6fa5\", \"matched_merged_final2_v3.zip\", 372412159)"
            ]
          },
          "metadata": {}
        }
      ]
    },
    {
      "cell_type": "code",
      "source": [],
      "metadata": {
        "id": "tk1dODcOk_E-"
      },
      "execution_count": null,
      "outputs": []
    }
  ]
}